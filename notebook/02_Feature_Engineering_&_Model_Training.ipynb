{
  "cells": [
    {
      "cell_type": "markdown",
      "id": "2c941ed4-5446-4e5e-adc9-68f4141f9dbe",
      "metadata": {
        "id": "2c941ed4-5446-4e5e-adc9-68f4141f9dbe"
      },
      "source": [
        "# Data Pre-Processing"
      ]
    },
    {
      "cell_type": "markdown",
      "source": [
        "## Importing libraries"
      ],
      "metadata": {
        "id": "YIRJBCY1uj9o"
      },
      "id": "YIRJBCY1uj9o"
    },
    {
      "cell_type": "code",
      "source": [
        "import pandas as pd\n",
        "import numpy as np\n",
        "import matplotlib.pyplot as plt\n",
        "import seaborn as sns\n",
        "import warnings"
      ],
      "metadata": {
        "id": "ulWX912Dunck"
      },
      "id": "ulWX912Dunck",
      "execution_count": 1,
      "outputs": []
    },
    {
      "cell_type": "markdown",
      "source": [
        "### Importing Data"
      ],
      "metadata": {
        "id": "Dfil2venu3Dw"
      },
      "id": "Dfil2venu3Dw"
    },
    {
      "cell_type": "code",
      "source": [
        "df=pd.read_csv(\"EasyVisa.csv\")"
      ],
      "metadata": {
        "id": "XsIP-aADvBAu"
      },
      "id": "XsIP-aADvBAu",
      "execution_count": 2,
      "outputs": []
    },
    {
      "cell_type": "code",
      "source": [
        "df.shape"
      ],
      "metadata": {
        "id": "Zea1aTgCvNrZ",
        "outputId": "51ab734d-db3c-465c-cdcc-fd6f1e578c4e",
        "colab": {
          "base_uri": "https://localhost:8080/"
        }
      },
      "id": "Zea1aTgCvNrZ",
      "execution_count": 3,
      "outputs": [
        {
          "output_type": "execute_result",
          "data": {
            "text/plain": [
              "(25480, 12)"
            ]
          },
          "metadata": {},
          "execution_count": 3
        }
      ]
    },
    {
      "cell_type": "code",
      "source": [
        "df.columns"
      ],
      "metadata": {
        "id": "DLjIKTP5vPxA",
        "outputId": "1b505026-7aee-45cd-9212-b757355e643f",
        "colab": {
          "base_uri": "https://localhost:8080/"
        }
      },
      "id": "DLjIKTP5vPxA",
      "execution_count": 4,
      "outputs": [
        {
          "output_type": "execute_result",
          "data": {
            "text/plain": [
              "Index(['case_id', 'continent', 'education_of_employee', 'has_job_experience',\n",
              "       'requires_job_training', 'no_of_employees', 'yr_of_estab',\n",
              "       'region_of_employment', 'prevailing_wage', 'unit_of_wage',\n",
              "       'full_time_position', 'case_status'],\n",
              "      dtype='object')"
            ]
          },
          "metadata": {},
          "execution_count": 4
        }
      ]
    },
    {
      "cell_type": "code",
      "source": [
        "df.head()"
      ],
      "metadata": {
        "id": "VMLFooWbvUQ0",
        "outputId": "789b8b07-81aa-41ce-d5b3-1e49e1d13dc3",
        "colab": {
          "base_uri": "https://localhost:8080/",
          "height": 226
        }
      },
      "id": "VMLFooWbvUQ0",
      "execution_count": 5,
      "outputs": [
        {
          "output_type": "execute_result",
          "data": {
            "text/plain": [
              "  case_id continent education_of_employee has_job_experience  \\\n",
              "0  EZYV01      Asia           High School                  N   \n",
              "1  EZYV02      Asia              Master's                  Y   \n",
              "2  EZYV03      Asia            Bachelor's                  N   \n",
              "3  EZYV04      Asia            Bachelor's                  N   \n",
              "4  EZYV05    Africa              Master's                  Y   \n",
              "\n",
              "  requires_job_training  no_of_employees  yr_of_estab region_of_employment  \\\n",
              "0                     N            14513         2007                 West   \n",
              "1                     N             2412         2002            Northeast   \n",
              "2                     Y            44444         2008                 West   \n",
              "3                     N               98         1897                 West   \n",
              "4                     N             1082         2005                South   \n",
              "\n",
              "   prevailing_wage unit_of_wage full_time_position case_status  \n",
              "0         592.2029         Hour                  Y      Denied  \n",
              "1       83425.6500         Year                  Y   Certified  \n",
              "2      122996.8600         Year                  Y      Denied  \n",
              "3       83434.0300         Year                  Y      Denied  \n",
              "4      149907.3900         Year                  Y   Certified  "
            ],
            "text/html": [
              "\n",
              "  <div id=\"df-25c557c0-552f-4257-bbc2-67da148987e5\" class=\"colab-df-container\">\n",
              "    <div>\n",
              "<style scoped>\n",
              "    .dataframe tbody tr th:only-of-type {\n",
              "        vertical-align: middle;\n",
              "    }\n",
              "\n",
              "    .dataframe tbody tr th {\n",
              "        vertical-align: top;\n",
              "    }\n",
              "\n",
              "    .dataframe thead th {\n",
              "        text-align: right;\n",
              "    }\n",
              "</style>\n",
              "<table border=\"1\" class=\"dataframe\">\n",
              "  <thead>\n",
              "    <tr style=\"text-align: right;\">\n",
              "      <th></th>\n",
              "      <th>case_id</th>\n",
              "      <th>continent</th>\n",
              "      <th>education_of_employee</th>\n",
              "      <th>has_job_experience</th>\n",
              "      <th>requires_job_training</th>\n",
              "      <th>no_of_employees</th>\n",
              "      <th>yr_of_estab</th>\n",
              "      <th>region_of_employment</th>\n",
              "      <th>prevailing_wage</th>\n",
              "      <th>unit_of_wage</th>\n",
              "      <th>full_time_position</th>\n",
              "      <th>case_status</th>\n",
              "    </tr>\n",
              "  </thead>\n",
              "  <tbody>\n",
              "    <tr>\n",
              "      <th>0</th>\n",
              "      <td>EZYV01</td>\n",
              "      <td>Asia</td>\n",
              "      <td>High School</td>\n",
              "      <td>N</td>\n",
              "      <td>N</td>\n",
              "      <td>14513</td>\n",
              "      <td>2007</td>\n",
              "      <td>West</td>\n",
              "      <td>592.2029</td>\n",
              "      <td>Hour</td>\n",
              "      <td>Y</td>\n",
              "      <td>Denied</td>\n",
              "    </tr>\n",
              "    <tr>\n",
              "      <th>1</th>\n",
              "      <td>EZYV02</td>\n",
              "      <td>Asia</td>\n",
              "      <td>Master's</td>\n",
              "      <td>Y</td>\n",
              "      <td>N</td>\n",
              "      <td>2412</td>\n",
              "      <td>2002</td>\n",
              "      <td>Northeast</td>\n",
              "      <td>83425.6500</td>\n",
              "      <td>Year</td>\n",
              "      <td>Y</td>\n",
              "      <td>Certified</td>\n",
              "    </tr>\n",
              "    <tr>\n",
              "      <th>2</th>\n",
              "      <td>EZYV03</td>\n",
              "      <td>Asia</td>\n",
              "      <td>Bachelor's</td>\n",
              "      <td>N</td>\n",
              "      <td>Y</td>\n",
              "      <td>44444</td>\n",
              "      <td>2008</td>\n",
              "      <td>West</td>\n",
              "      <td>122996.8600</td>\n",
              "      <td>Year</td>\n",
              "      <td>Y</td>\n",
              "      <td>Denied</td>\n",
              "    </tr>\n",
              "    <tr>\n",
              "      <th>3</th>\n",
              "      <td>EZYV04</td>\n",
              "      <td>Asia</td>\n",
              "      <td>Bachelor's</td>\n",
              "      <td>N</td>\n",
              "      <td>N</td>\n",
              "      <td>98</td>\n",
              "      <td>1897</td>\n",
              "      <td>West</td>\n",
              "      <td>83434.0300</td>\n",
              "      <td>Year</td>\n",
              "      <td>Y</td>\n",
              "      <td>Denied</td>\n",
              "    </tr>\n",
              "    <tr>\n",
              "      <th>4</th>\n",
              "      <td>EZYV05</td>\n",
              "      <td>Africa</td>\n",
              "      <td>Master's</td>\n",
              "      <td>Y</td>\n",
              "      <td>N</td>\n",
              "      <td>1082</td>\n",
              "      <td>2005</td>\n",
              "      <td>South</td>\n",
              "      <td>149907.3900</td>\n",
              "      <td>Year</td>\n",
              "      <td>Y</td>\n",
              "      <td>Certified</td>\n",
              "    </tr>\n",
              "  </tbody>\n",
              "</table>\n",
              "</div>\n",
              "    <div class=\"colab-df-buttons\">\n",
              "\n",
              "  <div class=\"colab-df-container\">\n",
              "    <button class=\"colab-df-convert\" onclick=\"convertToInteractive('df-25c557c0-552f-4257-bbc2-67da148987e5')\"\n",
              "            title=\"Convert this dataframe to an interactive table.\"\n",
              "            style=\"display:none;\">\n",
              "\n",
              "  <svg xmlns=\"http://www.w3.org/2000/svg\" height=\"24px\" viewBox=\"0 -960 960 960\">\n",
              "    <path d=\"M120-120v-720h720v720H120Zm60-500h600v-160H180v160Zm220 220h160v-160H400v160Zm0 220h160v-160H400v160ZM180-400h160v-160H180v160Zm440 0h160v-160H620v160ZM180-180h160v-160H180v160Zm440 0h160v-160H620v160Z\"/>\n",
              "  </svg>\n",
              "    </button>\n",
              "\n",
              "  <style>\n",
              "    .colab-df-container {\n",
              "      display:flex;\n",
              "      gap: 12px;\n",
              "    }\n",
              "\n",
              "    .colab-df-convert {\n",
              "      background-color: #E8F0FE;\n",
              "      border: none;\n",
              "      border-radius: 50%;\n",
              "      cursor: pointer;\n",
              "      display: none;\n",
              "      fill: #1967D2;\n",
              "      height: 32px;\n",
              "      padding: 0 0 0 0;\n",
              "      width: 32px;\n",
              "    }\n",
              "\n",
              "    .colab-df-convert:hover {\n",
              "      background-color: #E2EBFA;\n",
              "      box-shadow: 0px 1px 2px rgba(60, 64, 67, 0.3), 0px 1px 3px 1px rgba(60, 64, 67, 0.15);\n",
              "      fill: #174EA6;\n",
              "    }\n",
              "\n",
              "    .colab-df-buttons div {\n",
              "      margin-bottom: 4px;\n",
              "    }\n",
              "\n",
              "    [theme=dark] .colab-df-convert {\n",
              "      background-color: #3B4455;\n",
              "      fill: #D2E3FC;\n",
              "    }\n",
              "\n",
              "    [theme=dark] .colab-df-convert:hover {\n",
              "      background-color: #434B5C;\n",
              "      box-shadow: 0px 1px 3px 1px rgba(0, 0, 0, 0.15);\n",
              "      filter: drop-shadow(0px 1px 2px rgba(0, 0, 0, 0.3));\n",
              "      fill: #FFFFFF;\n",
              "    }\n",
              "  </style>\n",
              "\n",
              "    <script>\n",
              "      const buttonEl =\n",
              "        document.querySelector('#df-25c557c0-552f-4257-bbc2-67da148987e5 button.colab-df-convert');\n",
              "      buttonEl.style.display =\n",
              "        google.colab.kernel.accessAllowed ? 'block' : 'none';\n",
              "\n",
              "      async function convertToInteractive(key) {\n",
              "        const element = document.querySelector('#df-25c557c0-552f-4257-bbc2-67da148987e5');\n",
              "        const dataTable =\n",
              "          await google.colab.kernel.invokeFunction('convertToInteractive',\n",
              "                                                    [key], {});\n",
              "        if (!dataTable) return;\n",
              "\n",
              "        const docLinkHtml = 'Like what you see? Visit the ' +\n",
              "          '<a target=\"_blank\" href=https://colab.research.google.com/notebooks/data_table.ipynb>data table notebook</a>'\n",
              "          + ' to learn more about interactive tables.';\n",
              "        element.innerHTML = '';\n",
              "        dataTable['output_type'] = 'display_data';\n",
              "        await google.colab.output.renderOutput(dataTable, element);\n",
              "        const docLink = document.createElement('div');\n",
              "        docLink.innerHTML = docLinkHtml;\n",
              "        element.appendChild(docLink);\n",
              "      }\n",
              "    </script>\n",
              "  </div>\n",
              "\n",
              "\n",
              "<div id=\"df-caec2849-aae2-4a4a-a8a8-dd82a7f4c045\">\n",
              "  <button class=\"colab-df-quickchart\" onclick=\"quickchart('df-caec2849-aae2-4a4a-a8a8-dd82a7f4c045')\"\n",
              "            title=\"Suggest charts\"\n",
              "            style=\"display:none;\">\n",
              "\n",
              "<svg xmlns=\"http://www.w3.org/2000/svg\" height=\"24px\"viewBox=\"0 0 24 24\"\n",
              "     width=\"24px\">\n",
              "    <g>\n",
              "        <path d=\"M19 3H5c-1.1 0-2 .9-2 2v14c0 1.1.9 2 2 2h14c1.1 0 2-.9 2-2V5c0-1.1-.9-2-2-2zM9 17H7v-7h2v7zm4 0h-2V7h2v10zm4 0h-2v-4h2v4z\"/>\n",
              "    </g>\n",
              "</svg>\n",
              "  </button>\n",
              "\n",
              "<style>\n",
              "  .colab-df-quickchart {\n",
              "      --bg-color: #E8F0FE;\n",
              "      --fill-color: #1967D2;\n",
              "      --hover-bg-color: #E2EBFA;\n",
              "      --hover-fill-color: #174EA6;\n",
              "      --disabled-fill-color: #AAA;\n",
              "      --disabled-bg-color: #DDD;\n",
              "  }\n",
              "\n",
              "  [theme=dark] .colab-df-quickchart {\n",
              "      --bg-color: #3B4455;\n",
              "      --fill-color: #D2E3FC;\n",
              "      --hover-bg-color: #434B5C;\n",
              "      --hover-fill-color: #FFFFFF;\n",
              "      --disabled-bg-color: #3B4455;\n",
              "      --disabled-fill-color: #666;\n",
              "  }\n",
              "\n",
              "  .colab-df-quickchart {\n",
              "    background-color: var(--bg-color);\n",
              "    border: none;\n",
              "    border-radius: 50%;\n",
              "    cursor: pointer;\n",
              "    display: none;\n",
              "    fill: var(--fill-color);\n",
              "    height: 32px;\n",
              "    padding: 0;\n",
              "    width: 32px;\n",
              "  }\n",
              "\n",
              "  .colab-df-quickchart:hover {\n",
              "    background-color: var(--hover-bg-color);\n",
              "    box-shadow: 0 1px 2px rgba(60, 64, 67, 0.3), 0 1px 3px 1px rgba(60, 64, 67, 0.15);\n",
              "    fill: var(--button-hover-fill-color);\n",
              "  }\n",
              "\n",
              "  .colab-df-quickchart-complete:disabled,\n",
              "  .colab-df-quickchart-complete:disabled:hover {\n",
              "    background-color: var(--disabled-bg-color);\n",
              "    fill: var(--disabled-fill-color);\n",
              "    box-shadow: none;\n",
              "  }\n",
              "\n",
              "  .colab-df-spinner {\n",
              "    border: 2px solid var(--fill-color);\n",
              "    border-color: transparent;\n",
              "    border-bottom-color: var(--fill-color);\n",
              "    animation:\n",
              "      spin 1s steps(1) infinite;\n",
              "  }\n",
              "\n",
              "  @keyframes spin {\n",
              "    0% {\n",
              "      border-color: transparent;\n",
              "      border-bottom-color: var(--fill-color);\n",
              "      border-left-color: var(--fill-color);\n",
              "    }\n",
              "    20% {\n",
              "      border-color: transparent;\n",
              "      border-left-color: var(--fill-color);\n",
              "      border-top-color: var(--fill-color);\n",
              "    }\n",
              "    30% {\n",
              "      border-color: transparent;\n",
              "      border-left-color: var(--fill-color);\n",
              "      border-top-color: var(--fill-color);\n",
              "      border-right-color: var(--fill-color);\n",
              "    }\n",
              "    40% {\n",
              "      border-color: transparent;\n",
              "      border-right-color: var(--fill-color);\n",
              "      border-top-color: var(--fill-color);\n",
              "    }\n",
              "    60% {\n",
              "      border-color: transparent;\n",
              "      border-right-color: var(--fill-color);\n",
              "    }\n",
              "    80% {\n",
              "      border-color: transparent;\n",
              "      border-right-color: var(--fill-color);\n",
              "      border-bottom-color: var(--fill-color);\n",
              "    }\n",
              "    90% {\n",
              "      border-color: transparent;\n",
              "      border-bottom-color: var(--fill-color);\n",
              "    }\n",
              "  }\n",
              "</style>\n",
              "\n",
              "  <script>\n",
              "    async function quickchart(key) {\n",
              "      const quickchartButtonEl =\n",
              "        document.querySelector('#' + key + ' button');\n",
              "      quickchartButtonEl.disabled = true;  // To prevent multiple clicks.\n",
              "      quickchartButtonEl.classList.add('colab-df-spinner');\n",
              "      try {\n",
              "        const charts = await google.colab.kernel.invokeFunction(\n",
              "            'suggestCharts', [key], {});\n",
              "      } catch (error) {\n",
              "        console.error('Error during call to suggestCharts:', error);\n",
              "      }\n",
              "      quickchartButtonEl.classList.remove('colab-df-spinner');\n",
              "      quickchartButtonEl.classList.add('colab-df-quickchart-complete');\n",
              "    }\n",
              "    (() => {\n",
              "      let quickchartButtonEl =\n",
              "        document.querySelector('#df-caec2849-aae2-4a4a-a8a8-dd82a7f4c045 button');\n",
              "      quickchartButtonEl.style.display =\n",
              "        google.colab.kernel.accessAllowed ? 'block' : 'none';\n",
              "    })();\n",
              "  </script>\n",
              "</div>\n",
              "\n",
              "    </div>\n",
              "  </div>\n"
            ],
            "application/vnd.google.colaboratory.intrinsic+json": {
              "type": "dataframe",
              "variable_name": "df",
              "summary": "{\n  \"name\": \"df\",\n  \"rows\": 25480,\n  \"fields\": [\n    {\n      \"column\": \"case_id\",\n      \"properties\": {\n        \"dtype\": \"string\",\n        \"num_unique_values\": 25480,\n        \"samples\": [\n          \"EZYV16746\",\n          \"EZYV9527\",\n          \"EZYV8359\"\n        ],\n        \"semantic_type\": \"\",\n        \"description\": \"\"\n      }\n    },\n    {\n      \"column\": \"continent\",\n      \"properties\": {\n        \"dtype\": \"category\",\n        \"num_unique_values\": 6,\n        \"samples\": [\n          \"Asia\",\n          \"Africa\",\n          \"Oceania\"\n        ],\n        \"semantic_type\": \"\",\n        \"description\": \"\"\n      }\n    },\n    {\n      \"column\": \"education_of_employee\",\n      \"properties\": {\n        \"dtype\": \"category\",\n        \"num_unique_values\": 4,\n        \"samples\": [\n          \"Master's\",\n          \"Doctorate\",\n          \"High School\"\n        ],\n        \"semantic_type\": \"\",\n        \"description\": \"\"\n      }\n    },\n    {\n      \"column\": \"has_job_experience\",\n      \"properties\": {\n        \"dtype\": \"category\",\n        \"num_unique_values\": 2,\n        \"samples\": [\n          \"Y\",\n          \"N\"\n        ],\n        \"semantic_type\": \"\",\n        \"description\": \"\"\n      }\n    },\n    {\n      \"column\": \"requires_job_training\",\n      \"properties\": {\n        \"dtype\": \"category\",\n        \"num_unique_values\": 2,\n        \"samples\": [\n          \"Y\",\n          \"N\"\n        ],\n        \"semantic_type\": \"\",\n        \"description\": \"\"\n      }\n    },\n    {\n      \"column\": \"no_of_employees\",\n      \"properties\": {\n        \"dtype\": \"number\",\n        \"std\": 22877,\n        \"min\": -26,\n        \"max\": 602069,\n        \"num_unique_values\": 7105,\n        \"samples\": [\n          146713,\n          9342\n        ],\n        \"semantic_type\": \"\",\n        \"description\": \"\"\n      }\n    },\n    {\n      \"column\": \"yr_of_estab\",\n      \"properties\": {\n        \"dtype\": \"number\",\n        \"std\": 42,\n        \"min\": 1800,\n        \"max\": 2016,\n        \"num_unique_values\": 199,\n        \"samples\": [\n          1843,\n          1972\n        ],\n        \"semantic_type\": \"\",\n        \"description\": \"\"\n      }\n    },\n    {\n      \"column\": \"region_of_employment\",\n      \"properties\": {\n        \"dtype\": \"category\",\n        \"num_unique_values\": 5,\n        \"samples\": [\n          \"Northeast\",\n          \"Island\"\n        ],\n        \"semantic_type\": \"\",\n        \"description\": \"\"\n      }\n    },\n    {\n      \"column\": \"prevailing_wage\",\n      \"properties\": {\n        \"dtype\": \"number\",\n        \"std\": 52815.94232687357,\n        \"min\": 2.1367,\n        \"max\": 319210.27,\n        \"num_unique_values\": 25454,\n        \"samples\": [\n          44218.42,\n          60458.9\n        ],\n        \"semantic_type\": \"\",\n        \"description\": \"\"\n      }\n    },\n    {\n      \"column\": \"unit_of_wage\",\n      \"properties\": {\n        \"dtype\": \"category\",\n        \"num_unique_values\": 4,\n        \"samples\": [\n          \"Year\",\n          \"Month\"\n        ],\n        \"semantic_type\": \"\",\n        \"description\": \"\"\n      }\n    },\n    {\n      \"column\": \"full_time_position\",\n      \"properties\": {\n        \"dtype\": \"category\",\n        \"num_unique_values\": 2,\n        \"samples\": [\n          \"N\",\n          \"Y\"\n        ],\n        \"semantic_type\": \"\",\n        \"description\": \"\"\n      }\n    },\n    {\n      \"column\": \"case_status\",\n      \"properties\": {\n        \"dtype\": \"category\",\n        \"num_unique_values\": 2,\n        \"samples\": [\n          \"Certified\",\n          \"Denied\"\n        ],\n        \"semantic_type\": \"\",\n        \"description\": \"\"\n      }\n    }\n  ]\n}"
            }
          },
          "metadata": {},
          "execution_count": 5
        }
      ]
    },
    {
      "cell_type": "markdown",
      "source": [
        "## Data Cleaning\n",
        "* Missing or Null values\n",
        "* Duplicate Values\n",
        "* Check Data types\n",
        "* Understand Dataset"
      ],
      "metadata": {
        "id": "u3vLgNzzvXF6"
      },
      "id": "u3vLgNzzvXF6"
    },
    {
      "cell_type": "markdown",
      "source": [
        "### Missing or Null values"
      ],
      "metadata": {
        "id": "xdKAb7XnHTfF"
      },
      "id": "xdKAb7XnHTfF"
    },
    {
      "cell_type": "code",
      "source": [
        "features_with_na=[feature for feature in df.columns if df[feature].isnull().sum()>0]\n",
        "features_with_na"
      ],
      "metadata": {
        "colab": {
          "base_uri": "https://localhost:8080/"
        },
        "id": "KjfInTLAHpSD",
        "outputId": "74f3a861-12da-4991-f0df-1445e28fc990"
      },
      "id": "KjfInTLAHpSD",
      "execution_count": 6,
      "outputs": [
        {
          "output_type": "execute_result",
          "data": {
            "text/plain": [
              "[]"
            ]
          },
          "metadata": {},
          "execution_count": 6
        }
      ]
    },
    {
      "cell_type": "code",
      "source": [
        "# Displaying the percentage of missing values for each feature\n",
        "for feature in features_with_na:\n",
        "    missing_percentage = np.round(df[feature].isnull().mean() * 100, 5)\n",
        "    print(f\"{feature}: {missing_percentage}% missing values\")"
      ],
      "metadata": {
        "id": "osc_DZjZPR_s"
      },
      "id": "osc_DZjZPR_s",
      "execution_count": 7,
      "outputs": []
    },
    {
      "cell_type": "markdown",
      "source": [
        "**Observation:** No null values in the dataset"
      ],
      "metadata": {
        "id": "wLV2R5MXL5cS"
      },
      "id": "wLV2R5MXL5cS"
    },
    {
      "cell_type": "markdown",
      "source": [
        "### Duplicate Values"
      ],
      "metadata": {
        "id": "IXdI3-0XMU35"
      },
      "id": "IXdI3-0XMU35"
    },
    {
      "cell_type": "code",
      "source": [
        "df.duplicated().sum()"
      ],
      "metadata": {
        "colab": {
          "base_uri": "https://localhost:8080/"
        },
        "id": "jW00juHUOWnz",
        "outputId": "8d04703f-3183-424e-fd93-267456e5e664"
      },
      "id": "jW00juHUOWnz",
      "execution_count": 8,
      "outputs": [
        {
          "output_type": "execute_result",
          "data": {
            "text/plain": [
              "0"
            ]
          },
          "metadata": {},
          "execution_count": 8
        }
      ]
    },
    {
      "cell_type": "markdown",
      "source": [
        "**Observation:** No duplicate values in the dataset"
      ],
      "metadata": {
        "id": "k7nTJua-Odvg"
      },
      "id": "k7nTJua-Odvg"
    },
    {
      "cell_type": "markdown",
      "source": [
        "### Data Types"
      ],
      "metadata": {
        "id": "OfT74sriPbBj"
      },
      "id": "OfT74sriPbBj"
    },
    {
      "cell_type": "code",
      "source": [
        "df.info()"
      ],
      "metadata": {
        "colab": {
          "base_uri": "https://localhost:8080/"
        },
        "id": "5uCgRvb7Oheo",
        "outputId": "49205f3f-d79b-4bdb-b4f9-a81161d2447a"
      },
      "id": "5uCgRvb7Oheo",
      "execution_count": 9,
      "outputs": [
        {
          "output_type": "stream",
          "name": "stdout",
          "text": [
            "<class 'pandas.core.frame.DataFrame'>\n",
            "RangeIndex: 25480 entries, 0 to 25479\n",
            "Data columns (total 12 columns):\n",
            " #   Column                 Non-Null Count  Dtype  \n",
            "---  ------                 --------------  -----  \n",
            " 0   case_id                25480 non-null  object \n",
            " 1   continent              25480 non-null  object \n",
            " 2   education_of_employee  25480 non-null  object \n",
            " 3   has_job_experience     25480 non-null  object \n",
            " 4   requires_job_training  25480 non-null  object \n",
            " 5   no_of_employees        25480 non-null  int64  \n",
            " 6   yr_of_estab            25480 non-null  int64  \n",
            " 7   region_of_employment   25480 non-null  object \n",
            " 8   prevailing_wage        25480 non-null  float64\n",
            " 9   unit_of_wage           25480 non-null  object \n",
            " 10  full_time_position     25480 non-null  object \n",
            " 11  case_status            25480 non-null  object \n",
            "dtypes: float64(1), int64(2), object(9)\n",
            "memory usage: 2.3+ MB\n"
          ]
        }
      ]
    },
    {
      "cell_type": "markdown",
      "source": [
        "## Feature Engineering"
      ],
      "metadata": {
        "id": "C8S9fUOBOw1g"
      },
      "id": "C8S9fUOBOw1g"
    },
    {
      "cell_type": "code",
      "source": [
        "df.columns"
      ],
      "metadata": {
        "colab": {
          "base_uri": "https://localhost:8080/"
        },
        "id": "Ha76ggZfO5so",
        "outputId": "ca7cf5da-3982-49d9-ad41-f83c6e09286d"
      },
      "id": "Ha76ggZfO5so",
      "execution_count": 10,
      "outputs": [
        {
          "output_type": "execute_result",
          "data": {
            "text/plain": [
              "Index(['case_id', 'continent', 'education_of_employee', 'has_job_experience',\n",
              "       'requires_job_training', 'no_of_employees', 'yr_of_estab',\n",
              "       'region_of_employment', 'prevailing_wage', 'unit_of_wage',\n",
              "       'full_time_position', 'case_status'],\n",
              "      dtype='object')"
            ]
          },
          "metadata": {},
          "execution_count": 10
        }
      ]
    },
    {
      "cell_type": "markdown",
      "source": [
        "We are dropping the `case_id` column from the dataset because it is a unique identifier that does not provide any meaningful information for our analysis or model training. Unique identifiers like this don't contribute to predicting the target variable and could introduce noise into the model."
      ],
      "metadata": {
        "id": "OY6SG6w7O8Dk"
      },
      "id": "OY6SG6w7O8Dk"
    },
    {
      "cell_type": "code",
      "source": [
        "# Dropping 'case_id' as it does not provide any meaningful information for the analysis\n",
        "df=df.drop('case_id',axis=1)\n",
        "df.head()"
      ],
      "metadata": {
        "colab": {
          "base_uri": "https://localhost:8080/",
          "height": 226
        },
        "id": "2ds62USzPqnd",
        "outputId": "b268d291-b8c8-41be-c5fc-404634238f1b"
      },
      "id": "2ds62USzPqnd",
      "execution_count": 11,
      "outputs": [
        {
          "output_type": "execute_result",
          "data": {
            "text/plain": [
              "  continent education_of_employee has_job_experience requires_job_training  \\\n",
              "0      Asia           High School                  N                     N   \n",
              "1      Asia              Master's                  Y                     N   \n",
              "2      Asia            Bachelor's                  N                     Y   \n",
              "3      Asia            Bachelor's                  N                     N   \n",
              "4    Africa              Master's                  Y                     N   \n",
              "\n",
              "   no_of_employees  yr_of_estab region_of_employment  prevailing_wage  \\\n",
              "0            14513         2007                 West         592.2029   \n",
              "1             2412         2002            Northeast       83425.6500   \n",
              "2            44444         2008                 West      122996.8600   \n",
              "3               98         1897                 West       83434.0300   \n",
              "4             1082         2005                South      149907.3900   \n",
              "\n",
              "  unit_of_wage full_time_position case_status  \n",
              "0         Hour                  Y      Denied  \n",
              "1         Year                  Y   Certified  \n",
              "2         Year                  Y      Denied  \n",
              "3         Year                  Y      Denied  \n",
              "4         Year                  Y   Certified  "
            ],
            "text/html": [
              "\n",
              "  <div id=\"df-31694dc2-72ef-4d86-9a1f-baa534cc17c3\" class=\"colab-df-container\">\n",
              "    <div>\n",
              "<style scoped>\n",
              "    .dataframe tbody tr th:only-of-type {\n",
              "        vertical-align: middle;\n",
              "    }\n",
              "\n",
              "    .dataframe tbody tr th {\n",
              "        vertical-align: top;\n",
              "    }\n",
              "\n",
              "    .dataframe thead th {\n",
              "        text-align: right;\n",
              "    }\n",
              "</style>\n",
              "<table border=\"1\" class=\"dataframe\">\n",
              "  <thead>\n",
              "    <tr style=\"text-align: right;\">\n",
              "      <th></th>\n",
              "      <th>continent</th>\n",
              "      <th>education_of_employee</th>\n",
              "      <th>has_job_experience</th>\n",
              "      <th>requires_job_training</th>\n",
              "      <th>no_of_employees</th>\n",
              "      <th>yr_of_estab</th>\n",
              "      <th>region_of_employment</th>\n",
              "      <th>prevailing_wage</th>\n",
              "      <th>unit_of_wage</th>\n",
              "      <th>full_time_position</th>\n",
              "      <th>case_status</th>\n",
              "    </tr>\n",
              "  </thead>\n",
              "  <tbody>\n",
              "    <tr>\n",
              "      <th>0</th>\n",
              "      <td>Asia</td>\n",
              "      <td>High School</td>\n",
              "      <td>N</td>\n",
              "      <td>N</td>\n",
              "      <td>14513</td>\n",
              "      <td>2007</td>\n",
              "      <td>West</td>\n",
              "      <td>592.2029</td>\n",
              "      <td>Hour</td>\n",
              "      <td>Y</td>\n",
              "      <td>Denied</td>\n",
              "    </tr>\n",
              "    <tr>\n",
              "      <th>1</th>\n",
              "      <td>Asia</td>\n",
              "      <td>Master's</td>\n",
              "      <td>Y</td>\n",
              "      <td>N</td>\n",
              "      <td>2412</td>\n",
              "      <td>2002</td>\n",
              "      <td>Northeast</td>\n",
              "      <td>83425.6500</td>\n",
              "      <td>Year</td>\n",
              "      <td>Y</td>\n",
              "      <td>Certified</td>\n",
              "    </tr>\n",
              "    <tr>\n",
              "      <th>2</th>\n",
              "      <td>Asia</td>\n",
              "      <td>Bachelor's</td>\n",
              "      <td>N</td>\n",
              "      <td>Y</td>\n",
              "      <td>44444</td>\n",
              "      <td>2008</td>\n",
              "      <td>West</td>\n",
              "      <td>122996.8600</td>\n",
              "      <td>Year</td>\n",
              "      <td>Y</td>\n",
              "      <td>Denied</td>\n",
              "    </tr>\n",
              "    <tr>\n",
              "      <th>3</th>\n",
              "      <td>Asia</td>\n",
              "      <td>Bachelor's</td>\n",
              "      <td>N</td>\n",
              "      <td>N</td>\n",
              "      <td>98</td>\n",
              "      <td>1897</td>\n",
              "      <td>West</td>\n",
              "      <td>83434.0300</td>\n",
              "      <td>Year</td>\n",
              "      <td>Y</td>\n",
              "      <td>Denied</td>\n",
              "    </tr>\n",
              "    <tr>\n",
              "      <th>4</th>\n",
              "      <td>Africa</td>\n",
              "      <td>Master's</td>\n",
              "      <td>Y</td>\n",
              "      <td>N</td>\n",
              "      <td>1082</td>\n",
              "      <td>2005</td>\n",
              "      <td>South</td>\n",
              "      <td>149907.3900</td>\n",
              "      <td>Year</td>\n",
              "      <td>Y</td>\n",
              "      <td>Certified</td>\n",
              "    </tr>\n",
              "  </tbody>\n",
              "</table>\n",
              "</div>\n",
              "    <div class=\"colab-df-buttons\">\n",
              "\n",
              "  <div class=\"colab-df-container\">\n",
              "    <button class=\"colab-df-convert\" onclick=\"convertToInteractive('df-31694dc2-72ef-4d86-9a1f-baa534cc17c3')\"\n",
              "            title=\"Convert this dataframe to an interactive table.\"\n",
              "            style=\"display:none;\">\n",
              "\n",
              "  <svg xmlns=\"http://www.w3.org/2000/svg\" height=\"24px\" viewBox=\"0 -960 960 960\">\n",
              "    <path d=\"M120-120v-720h720v720H120Zm60-500h600v-160H180v160Zm220 220h160v-160H400v160Zm0 220h160v-160H400v160ZM180-400h160v-160H180v160Zm440 0h160v-160H620v160ZM180-180h160v-160H180v160Zm440 0h160v-160H620v160Z\"/>\n",
              "  </svg>\n",
              "    </button>\n",
              "\n",
              "  <style>\n",
              "    .colab-df-container {\n",
              "      display:flex;\n",
              "      gap: 12px;\n",
              "    }\n",
              "\n",
              "    .colab-df-convert {\n",
              "      background-color: #E8F0FE;\n",
              "      border: none;\n",
              "      border-radius: 50%;\n",
              "      cursor: pointer;\n",
              "      display: none;\n",
              "      fill: #1967D2;\n",
              "      height: 32px;\n",
              "      padding: 0 0 0 0;\n",
              "      width: 32px;\n",
              "    }\n",
              "\n",
              "    .colab-df-convert:hover {\n",
              "      background-color: #E2EBFA;\n",
              "      box-shadow: 0px 1px 2px rgba(60, 64, 67, 0.3), 0px 1px 3px 1px rgba(60, 64, 67, 0.15);\n",
              "      fill: #174EA6;\n",
              "    }\n",
              "\n",
              "    .colab-df-buttons div {\n",
              "      margin-bottom: 4px;\n",
              "    }\n",
              "\n",
              "    [theme=dark] .colab-df-convert {\n",
              "      background-color: #3B4455;\n",
              "      fill: #D2E3FC;\n",
              "    }\n",
              "\n",
              "    [theme=dark] .colab-df-convert:hover {\n",
              "      background-color: #434B5C;\n",
              "      box-shadow: 0px 1px 3px 1px rgba(0, 0, 0, 0.15);\n",
              "      filter: drop-shadow(0px 1px 2px rgba(0, 0, 0, 0.3));\n",
              "      fill: #FFFFFF;\n",
              "    }\n",
              "  </style>\n",
              "\n",
              "    <script>\n",
              "      const buttonEl =\n",
              "        document.querySelector('#df-31694dc2-72ef-4d86-9a1f-baa534cc17c3 button.colab-df-convert');\n",
              "      buttonEl.style.display =\n",
              "        google.colab.kernel.accessAllowed ? 'block' : 'none';\n",
              "\n",
              "      async function convertToInteractive(key) {\n",
              "        const element = document.querySelector('#df-31694dc2-72ef-4d86-9a1f-baa534cc17c3');\n",
              "        const dataTable =\n",
              "          await google.colab.kernel.invokeFunction('convertToInteractive',\n",
              "                                                    [key], {});\n",
              "        if (!dataTable) return;\n",
              "\n",
              "        const docLinkHtml = 'Like what you see? Visit the ' +\n",
              "          '<a target=\"_blank\" href=https://colab.research.google.com/notebooks/data_table.ipynb>data table notebook</a>'\n",
              "          + ' to learn more about interactive tables.';\n",
              "        element.innerHTML = '';\n",
              "        dataTable['output_type'] = 'display_data';\n",
              "        await google.colab.output.renderOutput(dataTable, element);\n",
              "        const docLink = document.createElement('div');\n",
              "        docLink.innerHTML = docLinkHtml;\n",
              "        element.appendChild(docLink);\n",
              "      }\n",
              "    </script>\n",
              "  </div>\n",
              "\n",
              "\n",
              "<div id=\"df-3ae04266-4404-43dc-b8ca-c6361a526514\">\n",
              "  <button class=\"colab-df-quickchart\" onclick=\"quickchart('df-3ae04266-4404-43dc-b8ca-c6361a526514')\"\n",
              "            title=\"Suggest charts\"\n",
              "            style=\"display:none;\">\n",
              "\n",
              "<svg xmlns=\"http://www.w3.org/2000/svg\" height=\"24px\"viewBox=\"0 0 24 24\"\n",
              "     width=\"24px\">\n",
              "    <g>\n",
              "        <path d=\"M19 3H5c-1.1 0-2 .9-2 2v14c0 1.1.9 2 2 2h14c1.1 0 2-.9 2-2V5c0-1.1-.9-2-2-2zM9 17H7v-7h2v7zm4 0h-2V7h2v10zm4 0h-2v-4h2v4z\"/>\n",
              "    </g>\n",
              "</svg>\n",
              "  </button>\n",
              "\n",
              "<style>\n",
              "  .colab-df-quickchart {\n",
              "      --bg-color: #E8F0FE;\n",
              "      --fill-color: #1967D2;\n",
              "      --hover-bg-color: #E2EBFA;\n",
              "      --hover-fill-color: #174EA6;\n",
              "      --disabled-fill-color: #AAA;\n",
              "      --disabled-bg-color: #DDD;\n",
              "  }\n",
              "\n",
              "  [theme=dark] .colab-df-quickchart {\n",
              "      --bg-color: #3B4455;\n",
              "      --fill-color: #D2E3FC;\n",
              "      --hover-bg-color: #434B5C;\n",
              "      --hover-fill-color: #FFFFFF;\n",
              "      --disabled-bg-color: #3B4455;\n",
              "      --disabled-fill-color: #666;\n",
              "  }\n",
              "\n",
              "  .colab-df-quickchart {\n",
              "    background-color: var(--bg-color);\n",
              "    border: none;\n",
              "    border-radius: 50%;\n",
              "    cursor: pointer;\n",
              "    display: none;\n",
              "    fill: var(--fill-color);\n",
              "    height: 32px;\n",
              "    padding: 0;\n",
              "    width: 32px;\n",
              "  }\n",
              "\n",
              "  .colab-df-quickchart:hover {\n",
              "    background-color: var(--hover-bg-color);\n",
              "    box-shadow: 0 1px 2px rgba(60, 64, 67, 0.3), 0 1px 3px 1px rgba(60, 64, 67, 0.15);\n",
              "    fill: var(--button-hover-fill-color);\n",
              "  }\n",
              "\n",
              "  .colab-df-quickchart-complete:disabled,\n",
              "  .colab-df-quickchart-complete:disabled:hover {\n",
              "    background-color: var(--disabled-bg-color);\n",
              "    fill: var(--disabled-fill-color);\n",
              "    box-shadow: none;\n",
              "  }\n",
              "\n",
              "  .colab-df-spinner {\n",
              "    border: 2px solid var(--fill-color);\n",
              "    border-color: transparent;\n",
              "    border-bottom-color: var(--fill-color);\n",
              "    animation:\n",
              "      spin 1s steps(1) infinite;\n",
              "  }\n",
              "\n",
              "  @keyframes spin {\n",
              "    0% {\n",
              "      border-color: transparent;\n",
              "      border-bottom-color: var(--fill-color);\n",
              "      border-left-color: var(--fill-color);\n",
              "    }\n",
              "    20% {\n",
              "      border-color: transparent;\n",
              "      border-left-color: var(--fill-color);\n",
              "      border-top-color: var(--fill-color);\n",
              "    }\n",
              "    30% {\n",
              "      border-color: transparent;\n",
              "      border-left-color: var(--fill-color);\n",
              "      border-top-color: var(--fill-color);\n",
              "      border-right-color: var(--fill-color);\n",
              "    }\n",
              "    40% {\n",
              "      border-color: transparent;\n",
              "      border-right-color: var(--fill-color);\n",
              "      border-top-color: var(--fill-color);\n",
              "    }\n",
              "    60% {\n",
              "      border-color: transparent;\n",
              "      border-right-color: var(--fill-color);\n",
              "    }\n",
              "    80% {\n",
              "      border-color: transparent;\n",
              "      border-right-color: var(--fill-color);\n",
              "      border-bottom-color: var(--fill-color);\n",
              "    }\n",
              "    90% {\n",
              "      border-color: transparent;\n",
              "      border-bottom-color: var(--fill-color);\n",
              "    }\n",
              "  }\n",
              "</style>\n",
              "\n",
              "  <script>\n",
              "    async function quickchart(key) {\n",
              "      const quickchartButtonEl =\n",
              "        document.querySelector('#' + key + ' button');\n",
              "      quickchartButtonEl.disabled = true;  // To prevent multiple clicks.\n",
              "      quickchartButtonEl.classList.add('colab-df-spinner');\n",
              "      try {\n",
              "        const charts = await google.colab.kernel.invokeFunction(\n",
              "            'suggestCharts', [key], {});\n",
              "      } catch (error) {\n",
              "        console.error('Error during call to suggestCharts:', error);\n",
              "      }\n",
              "      quickchartButtonEl.classList.remove('colab-df-spinner');\n",
              "      quickchartButtonEl.classList.add('colab-df-quickchart-complete');\n",
              "    }\n",
              "    (() => {\n",
              "      let quickchartButtonEl =\n",
              "        document.querySelector('#df-3ae04266-4404-43dc-b8ca-c6361a526514 button');\n",
              "      quickchartButtonEl.style.display =\n",
              "        google.colab.kernel.accessAllowed ? 'block' : 'none';\n",
              "    })();\n",
              "  </script>\n",
              "</div>\n",
              "\n",
              "    </div>\n",
              "  </div>\n"
            ],
            "application/vnd.google.colaboratory.intrinsic+json": {
              "type": "dataframe",
              "variable_name": "df",
              "summary": "{\n  \"name\": \"df\",\n  \"rows\": 25480,\n  \"fields\": [\n    {\n      \"column\": \"continent\",\n      \"properties\": {\n        \"dtype\": \"category\",\n        \"num_unique_values\": 6,\n        \"samples\": [\n          \"Asia\",\n          \"Africa\",\n          \"Oceania\"\n        ],\n        \"semantic_type\": \"\",\n        \"description\": \"\"\n      }\n    },\n    {\n      \"column\": \"education_of_employee\",\n      \"properties\": {\n        \"dtype\": \"category\",\n        \"num_unique_values\": 4,\n        \"samples\": [\n          \"Master's\",\n          \"Doctorate\",\n          \"High School\"\n        ],\n        \"semantic_type\": \"\",\n        \"description\": \"\"\n      }\n    },\n    {\n      \"column\": \"has_job_experience\",\n      \"properties\": {\n        \"dtype\": \"category\",\n        \"num_unique_values\": 2,\n        \"samples\": [\n          \"Y\",\n          \"N\"\n        ],\n        \"semantic_type\": \"\",\n        \"description\": \"\"\n      }\n    },\n    {\n      \"column\": \"requires_job_training\",\n      \"properties\": {\n        \"dtype\": \"category\",\n        \"num_unique_values\": 2,\n        \"samples\": [\n          \"Y\",\n          \"N\"\n        ],\n        \"semantic_type\": \"\",\n        \"description\": \"\"\n      }\n    },\n    {\n      \"column\": \"no_of_employees\",\n      \"properties\": {\n        \"dtype\": \"number\",\n        \"std\": 22877,\n        \"min\": -26,\n        \"max\": 602069,\n        \"num_unique_values\": 7105,\n        \"samples\": [\n          146713,\n          9342\n        ],\n        \"semantic_type\": \"\",\n        \"description\": \"\"\n      }\n    },\n    {\n      \"column\": \"yr_of_estab\",\n      \"properties\": {\n        \"dtype\": \"number\",\n        \"std\": 42,\n        \"min\": 1800,\n        \"max\": 2016,\n        \"num_unique_values\": 199,\n        \"samples\": [\n          1843,\n          1972\n        ],\n        \"semantic_type\": \"\",\n        \"description\": \"\"\n      }\n    },\n    {\n      \"column\": \"region_of_employment\",\n      \"properties\": {\n        \"dtype\": \"category\",\n        \"num_unique_values\": 5,\n        \"samples\": [\n          \"Northeast\",\n          \"Island\"\n        ],\n        \"semantic_type\": \"\",\n        \"description\": \"\"\n      }\n    },\n    {\n      \"column\": \"prevailing_wage\",\n      \"properties\": {\n        \"dtype\": \"number\",\n        \"std\": 52815.94232687357,\n        \"min\": 2.1367,\n        \"max\": 319210.27,\n        \"num_unique_values\": 25454,\n        \"samples\": [\n          44218.42,\n          60458.9\n        ],\n        \"semantic_type\": \"\",\n        \"description\": \"\"\n      }\n    },\n    {\n      \"column\": \"unit_of_wage\",\n      \"properties\": {\n        \"dtype\": \"category\",\n        \"num_unique_values\": 4,\n        \"samples\": [\n          \"Year\",\n          \"Month\"\n        ],\n        \"semantic_type\": \"\",\n        \"description\": \"\"\n      }\n    },\n    {\n      \"column\": \"full_time_position\",\n      \"properties\": {\n        \"dtype\": \"category\",\n        \"num_unique_values\": 2,\n        \"samples\": [\n          \"N\",\n          \"Y\"\n        ],\n        \"semantic_type\": \"\",\n        \"description\": \"\"\n      }\n    },\n    {\n      \"column\": \"case_status\",\n      \"properties\": {\n        \"dtype\": \"category\",\n        \"num_unique_values\": 2,\n        \"samples\": [\n          \"Certified\",\n          \"Denied\"\n        ],\n        \"semantic_type\": \"\",\n        \"description\": \"\"\n      }\n    }\n  ]\n}"
            }
          },
          "metadata": {},
          "execution_count": 11
        }
      ]
    },
    {
      "cell_type": "code",
      "source": [
        "df.columns"
      ],
      "metadata": {
        "colab": {
          "base_uri": "https://localhost:8080/"
        },
        "id": "8aUtyTiMP43Z",
        "outputId": "a5efe2f8-a94d-4dff-85fc-cc0ba8c45c87"
      },
      "id": "8aUtyTiMP43Z",
      "execution_count": 12,
      "outputs": [
        {
          "output_type": "execute_result",
          "data": {
            "text/plain": [
              "Index(['continent', 'education_of_employee', 'has_job_experience',\n",
              "       'requires_job_training', 'no_of_employees', 'yr_of_estab',\n",
              "       'region_of_employment', 'prevailing_wage', 'unit_of_wage',\n",
              "       'full_time_position', 'case_status'],\n",
              "      dtype='object')"
            ]
          },
          "metadata": {},
          "execution_count": 12
        }
      ]
    },
    {
      "cell_type": "markdown",
      "source": [
        "The `yr_of_estab` (year of establishment) column represents the year a company was established, which is not directly useful for analysis. To make it more meaningful, we will convert it into `company_age` by subtracting the year of establishment from the current year. This transformation will give us the age of the company, which is more relevant for analysis and modeling."
      ],
      "metadata": {
        "id": "bLSAhGctQQ8t"
      },
      "id": "bLSAhGctQQ8t"
    },
    {
      "cell_type": "code",
      "source": [
        "from datetime import date\n",
        "\n",
        "date_now=date.today()\n",
        "current_year=date_now.year\n",
        "current_year"
      ],
      "metadata": {
        "colab": {
          "base_uri": "https://localhost:8080/"
        },
        "id": "H84Lz7BLQVwp",
        "outputId": "6a6ea336-7f3a-429c-a1a1-6038a6a48e4e"
      },
      "id": "H84Lz7BLQVwp",
      "execution_count": 13,
      "outputs": [
        {
          "output_type": "execute_result",
          "data": {
            "text/plain": [
              "2024"
            ]
          },
          "metadata": {},
          "execution_count": 13
        }
      ]
    },
    {
      "cell_type": "markdown",
      "source": [
        "calculating the company age"
      ],
      "metadata": {
        "id": "MVhErQqgR77I"
      },
      "id": "MVhErQqgR77I"
    },
    {
      "cell_type": "code",
      "source": [
        "df['company_age']=current_year-df['yr_of_estab']"
      ],
      "metadata": {
        "id": "hcPabamqSARO"
      },
      "id": "hcPabamqSARO",
      "execution_count": 14,
      "outputs": []
    },
    {
      "cell_type": "code",
      "source": [
        "df=df.drop('yr_of_estab',axis=1)\n",
        "df.head()"
      ],
      "metadata": {
        "colab": {
          "base_uri": "https://localhost:8080/",
          "height": 226
        },
        "id": "tPn1pFWvSNIt",
        "outputId": "fadde048-8568-45e3-f711-fbdb18f46e7c"
      },
      "id": "tPn1pFWvSNIt",
      "execution_count": 15,
      "outputs": [
        {
          "output_type": "execute_result",
          "data": {
            "text/plain": [
              "  continent education_of_employee has_job_experience requires_job_training  \\\n",
              "0      Asia           High School                  N                     N   \n",
              "1      Asia              Master's                  Y                     N   \n",
              "2      Asia            Bachelor's                  N                     Y   \n",
              "3      Asia            Bachelor's                  N                     N   \n",
              "4    Africa              Master's                  Y                     N   \n",
              "\n",
              "   no_of_employees region_of_employment  prevailing_wage unit_of_wage  \\\n",
              "0            14513                 West         592.2029         Hour   \n",
              "1             2412            Northeast       83425.6500         Year   \n",
              "2            44444                 West      122996.8600         Year   \n",
              "3               98                 West       83434.0300         Year   \n",
              "4             1082                South      149907.3900         Year   \n",
              "\n",
              "  full_time_position case_status  company_age  \n",
              "0                  Y      Denied           17  \n",
              "1                  Y   Certified           22  \n",
              "2                  Y      Denied           16  \n",
              "3                  Y      Denied          127  \n",
              "4                  Y   Certified           19  "
            ],
            "text/html": [
              "\n",
              "  <div id=\"df-93f7ce80-9cd7-488c-9d63-6c2bf5b2aa98\" class=\"colab-df-container\">\n",
              "    <div>\n",
              "<style scoped>\n",
              "    .dataframe tbody tr th:only-of-type {\n",
              "        vertical-align: middle;\n",
              "    }\n",
              "\n",
              "    .dataframe tbody tr th {\n",
              "        vertical-align: top;\n",
              "    }\n",
              "\n",
              "    .dataframe thead th {\n",
              "        text-align: right;\n",
              "    }\n",
              "</style>\n",
              "<table border=\"1\" class=\"dataframe\">\n",
              "  <thead>\n",
              "    <tr style=\"text-align: right;\">\n",
              "      <th></th>\n",
              "      <th>continent</th>\n",
              "      <th>education_of_employee</th>\n",
              "      <th>has_job_experience</th>\n",
              "      <th>requires_job_training</th>\n",
              "      <th>no_of_employees</th>\n",
              "      <th>region_of_employment</th>\n",
              "      <th>prevailing_wage</th>\n",
              "      <th>unit_of_wage</th>\n",
              "      <th>full_time_position</th>\n",
              "      <th>case_status</th>\n",
              "      <th>company_age</th>\n",
              "    </tr>\n",
              "  </thead>\n",
              "  <tbody>\n",
              "    <tr>\n",
              "      <th>0</th>\n",
              "      <td>Asia</td>\n",
              "      <td>High School</td>\n",
              "      <td>N</td>\n",
              "      <td>N</td>\n",
              "      <td>14513</td>\n",
              "      <td>West</td>\n",
              "      <td>592.2029</td>\n",
              "      <td>Hour</td>\n",
              "      <td>Y</td>\n",
              "      <td>Denied</td>\n",
              "      <td>17</td>\n",
              "    </tr>\n",
              "    <tr>\n",
              "      <th>1</th>\n",
              "      <td>Asia</td>\n",
              "      <td>Master's</td>\n",
              "      <td>Y</td>\n",
              "      <td>N</td>\n",
              "      <td>2412</td>\n",
              "      <td>Northeast</td>\n",
              "      <td>83425.6500</td>\n",
              "      <td>Year</td>\n",
              "      <td>Y</td>\n",
              "      <td>Certified</td>\n",
              "      <td>22</td>\n",
              "    </tr>\n",
              "    <tr>\n",
              "      <th>2</th>\n",
              "      <td>Asia</td>\n",
              "      <td>Bachelor's</td>\n",
              "      <td>N</td>\n",
              "      <td>Y</td>\n",
              "      <td>44444</td>\n",
              "      <td>West</td>\n",
              "      <td>122996.8600</td>\n",
              "      <td>Year</td>\n",
              "      <td>Y</td>\n",
              "      <td>Denied</td>\n",
              "      <td>16</td>\n",
              "    </tr>\n",
              "    <tr>\n",
              "      <th>3</th>\n",
              "      <td>Asia</td>\n",
              "      <td>Bachelor's</td>\n",
              "      <td>N</td>\n",
              "      <td>N</td>\n",
              "      <td>98</td>\n",
              "      <td>West</td>\n",
              "      <td>83434.0300</td>\n",
              "      <td>Year</td>\n",
              "      <td>Y</td>\n",
              "      <td>Denied</td>\n",
              "      <td>127</td>\n",
              "    </tr>\n",
              "    <tr>\n",
              "      <th>4</th>\n",
              "      <td>Africa</td>\n",
              "      <td>Master's</td>\n",
              "      <td>Y</td>\n",
              "      <td>N</td>\n",
              "      <td>1082</td>\n",
              "      <td>South</td>\n",
              "      <td>149907.3900</td>\n",
              "      <td>Year</td>\n",
              "      <td>Y</td>\n",
              "      <td>Certified</td>\n",
              "      <td>19</td>\n",
              "    </tr>\n",
              "  </tbody>\n",
              "</table>\n",
              "</div>\n",
              "    <div class=\"colab-df-buttons\">\n",
              "\n",
              "  <div class=\"colab-df-container\">\n",
              "    <button class=\"colab-df-convert\" onclick=\"convertToInteractive('df-93f7ce80-9cd7-488c-9d63-6c2bf5b2aa98')\"\n",
              "            title=\"Convert this dataframe to an interactive table.\"\n",
              "            style=\"display:none;\">\n",
              "\n",
              "  <svg xmlns=\"http://www.w3.org/2000/svg\" height=\"24px\" viewBox=\"0 -960 960 960\">\n",
              "    <path d=\"M120-120v-720h720v720H120Zm60-500h600v-160H180v160Zm220 220h160v-160H400v160Zm0 220h160v-160H400v160ZM180-400h160v-160H180v160Zm440 0h160v-160H620v160ZM180-180h160v-160H180v160Zm440 0h160v-160H620v160Z\"/>\n",
              "  </svg>\n",
              "    </button>\n",
              "\n",
              "  <style>\n",
              "    .colab-df-container {\n",
              "      display:flex;\n",
              "      gap: 12px;\n",
              "    }\n",
              "\n",
              "    .colab-df-convert {\n",
              "      background-color: #E8F0FE;\n",
              "      border: none;\n",
              "      border-radius: 50%;\n",
              "      cursor: pointer;\n",
              "      display: none;\n",
              "      fill: #1967D2;\n",
              "      height: 32px;\n",
              "      padding: 0 0 0 0;\n",
              "      width: 32px;\n",
              "    }\n",
              "\n",
              "    .colab-df-convert:hover {\n",
              "      background-color: #E2EBFA;\n",
              "      box-shadow: 0px 1px 2px rgba(60, 64, 67, 0.3), 0px 1px 3px 1px rgba(60, 64, 67, 0.15);\n",
              "      fill: #174EA6;\n",
              "    }\n",
              "\n",
              "    .colab-df-buttons div {\n",
              "      margin-bottom: 4px;\n",
              "    }\n",
              "\n",
              "    [theme=dark] .colab-df-convert {\n",
              "      background-color: #3B4455;\n",
              "      fill: #D2E3FC;\n",
              "    }\n",
              "\n",
              "    [theme=dark] .colab-df-convert:hover {\n",
              "      background-color: #434B5C;\n",
              "      box-shadow: 0px 1px 3px 1px rgba(0, 0, 0, 0.15);\n",
              "      filter: drop-shadow(0px 1px 2px rgba(0, 0, 0, 0.3));\n",
              "      fill: #FFFFFF;\n",
              "    }\n",
              "  </style>\n",
              "\n",
              "    <script>\n",
              "      const buttonEl =\n",
              "        document.querySelector('#df-93f7ce80-9cd7-488c-9d63-6c2bf5b2aa98 button.colab-df-convert');\n",
              "      buttonEl.style.display =\n",
              "        google.colab.kernel.accessAllowed ? 'block' : 'none';\n",
              "\n",
              "      async function convertToInteractive(key) {\n",
              "        const element = document.querySelector('#df-93f7ce80-9cd7-488c-9d63-6c2bf5b2aa98');\n",
              "        const dataTable =\n",
              "          await google.colab.kernel.invokeFunction('convertToInteractive',\n",
              "                                                    [key], {});\n",
              "        if (!dataTable) return;\n",
              "\n",
              "        const docLinkHtml = 'Like what you see? Visit the ' +\n",
              "          '<a target=\"_blank\" href=https://colab.research.google.com/notebooks/data_table.ipynb>data table notebook</a>'\n",
              "          + ' to learn more about interactive tables.';\n",
              "        element.innerHTML = '';\n",
              "        dataTable['output_type'] = 'display_data';\n",
              "        await google.colab.output.renderOutput(dataTable, element);\n",
              "        const docLink = document.createElement('div');\n",
              "        docLink.innerHTML = docLinkHtml;\n",
              "        element.appendChild(docLink);\n",
              "      }\n",
              "    </script>\n",
              "  </div>\n",
              "\n",
              "\n",
              "<div id=\"df-c380f2d3-6f2c-4ed7-b895-88217dc9b1ed\">\n",
              "  <button class=\"colab-df-quickchart\" onclick=\"quickchart('df-c380f2d3-6f2c-4ed7-b895-88217dc9b1ed')\"\n",
              "            title=\"Suggest charts\"\n",
              "            style=\"display:none;\">\n",
              "\n",
              "<svg xmlns=\"http://www.w3.org/2000/svg\" height=\"24px\"viewBox=\"0 0 24 24\"\n",
              "     width=\"24px\">\n",
              "    <g>\n",
              "        <path d=\"M19 3H5c-1.1 0-2 .9-2 2v14c0 1.1.9 2 2 2h14c1.1 0 2-.9 2-2V5c0-1.1-.9-2-2-2zM9 17H7v-7h2v7zm4 0h-2V7h2v10zm4 0h-2v-4h2v4z\"/>\n",
              "    </g>\n",
              "</svg>\n",
              "  </button>\n",
              "\n",
              "<style>\n",
              "  .colab-df-quickchart {\n",
              "      --bg-color: #E8F0FE;\n",
              "      --fill-color: #1967D2;\n",
              "      --hover-bg-color: #E2EBFA;\n",
              "      --hover-fill-color: #174EA6;\n",
              "      --disabled-fill-color: #AAA;\n",
              "      --disabled-bg-color: #DDD;\n",
              "  }\n",
              "\n",
              "  [theme=dark] .colab-df-quickchart {\n",
              "      --bg-color: #3B4455;\n",
              "      --fill-color: #D2E3FC;\n",
              "      --hover-bg-color: #434B5C;\n",
              "      --hover-fill-color: #FFFFFF;\n",
              "      --disabled-bg-color: #3B4455;\n",
              "      --disabled-fill-color: #666;\n",
              "  }\n",
              "\n",
              "  .colab-df-quickchart {\n",
              "    background-color: var(--bg-color);\n",
              "    border: none;\n",
              "    border-radius: 50%;\n",
              "    cursor: pointer;\n",
              "    display: none;\n",
              "    fill: var(--fill-color);\n",
              "    height: 32px;\n",
              "    padding: 0;\n",
              "    width: 32px;\n",
              "  }\n",
              "\n",
              "  .colab-df-quickchart:hover {\n",
              "    background-color: var(--hover-bg-color);\n",
              "    box-shadow: 0 1px 2px rgba(60, 64, 67, 0.3), 0 1px 3px 1px rgba(60, 64, 67, 0.15);\n",
              "    fill: var(--button-hover-fill-color);\n",
              "  }\n",
              "\n",
              "  .colab-df-quickchart-complete:disabled,\n",
              "  .colab-df-quickchart-complete:disabled:hover {\n",
              "    background-color: var(--disabled-bg-color);\n",
              "    fill: var(--disabled-fill-color);\n",
              "    box-shadow: none;\n",
              "  }\n",
              "\n",
              "  .colab-df-spinner {\n",
              "    border: 2px solid var(--fill-color);\n",
              "    border-color: transparent;\n",
              "    border-bottom-color: var(--fill-color);\n",
              "    animation:\n",
              "      spin 1s steps(1) infinite;\n",
              "  }\n",
              "\n",
              "  @keyframes spin {\n",
              "    0% {\n",
              "      border-color: transparent;\n",
              "      border-bottom-color: var(--fill-color);\n",
              "      border-left-color: var(--fill-color);\n",
              "    }\n",
              "    20% {\n",
              "      border-color: transparent;\n",
              "      border-left-color: var(--fill-color);\n",
              "      border-top-color: var(--fill-color);\n",
              "    }\n",
              "    30% {\n",
              "      border-color: transparent;\n",
              "      border-left-color: var(--fill-color);\n",
              "      border-top-color: var(--fill-color);\n",
              "      border-right-color: var(--fill-color);\n",
              "    }\n",
              "    40% {\n",
              "      border-color: transparent;\n",
              "      border-right-color: var(--fill-color);\n",
              "      border-top-color: var(--fill-color);\n",
              "    }\n",
              "    60% {\n",
              "      border-color: transparent;\n",
              "      border-right-color: var(--fill-color);\n",
              "    }\n",
              "    80% {\n",
              "      border-color: transparent;\n",
              "      border-right-color: var(--fill-color);\n",
              "      border-bottom-color: var(--fill-color);\n",
              "    }\n",
              "    90% {\n",
              "      border-color: transparent;\n",
              "      border-bottom-color: var(--fill-color);\n",
              "    }\n",
              "  }\n",
              "</style>\n",
              "\n",
              "  <script>\n",
              "    async function quickchart(key) {\n",
              "      const quickchartButtonEl =\n",
              "        document.querySelector('#' + key + ' button');\n",
              "      quickchartButtonEl.disabled = true;  // To prevent multiple clicks.\n",
              "      quickchartButtonEl.classList.add('colab-df-spinner');\n",
              "      try {\n",
              "        const charts = await google.colab.kernel.invokeFunction(\n",
              "            'suggestCharts', [key], {});\n",
              "      } catch (error) {\n",
              "        console.error('Error during call to suggestCharts:', error);\n",
              "      }\n",
              "      quickchartButtonEl.classList.remove('colab-df-spinner');\n",
              "      quickchartButtonEl.classList.add('colab-df-quickchart-complete');\n",
              "    }\n",
              "    (() => {\n",
              "      let quickchartButtonEl =\n",
              "        document.querySelector('#df-c380f2d3-6f2c-4ed7-b895-88217dc9b1ed button');\n",
              "      quickchartButtonEl.style.display =\n",
              "        google.colab.kernel.accessAllowed ? 'block' : 'none';\n",
              "    })();\n",
              "  </script>\n",
              "</div>\n",
              "\n",
              "    </div>\n",
              "  </div>\n"
            ],
            "application/vnd.google.colaboratory.intrinsic+json": {
              "type": "dataframe",
              "variable_name": "df",
              "summary": "{\n  \"name\": \"df\",\n  \"rows\": 25480,\n  \"fields\": [\n    {\n      \"column\": \"continent\",\n      \"properties\": {\n        \"dtype\": \"category\",\n        \"num_unique_values\": 6,\n        \"samples\": [\n          \"Asia\",\n          \"Africa\",\n          \"Oceania\"\n        ],\n        \"semantic_type\": \"\",\n        \"description\": \"\"\n      }\n    },\n    {\n      \"column\": \"education_of_employee\",\n      \"properties\": {\n        \"dtype\": \"category\",\n        \"num_unique_values\": 4,\n        \"samples\": [\n          \"Master's\",\n          \"Doctorate\",\n          \"High School\"\n        ],\n        \"semantic_type\": \"\",\n        \"description\": \"\"\n      }\n    },\n    {\n      \"column\": \"has_job_experience\",\n      \"properties\": {\n        \"dtype\": \"category\",\n        \"num_unique_values\": 2,\n        \"samples\": [\n          \"Y\",\n          \"N\"\n        ],\n        \"semantic_type\": \"\",\n        \"description\": \"\"\n      }\n    },\n    {\n      \"column\": \"requires_job_training\",\n      \"properties\": {\n        \"dtype\": \"category\",\n        \"num_unique_values\": 2,\n        \"samples\": [\n          \"Y\",\n          \"N\"\n        ],\n        \"semantic_type\": \"\",\n        \"description\": \"\"\n      }\n    },\n    {\n      \"column\": \"no_of_employees\",\n      \"properties\": {\n        \"dtype\": \"number\",\n        \"std\": 22877,\n        \"min\": -26,\n        \"max\": 602069,\n        \"num_unique_values\": 7105,\n        \"samples\": [\n          146713,\n          9342\n        ],\n        \"semantic_type\": \"\",\n        \"description\": \"\"\n      }\n    },\n    {\n      \"column\": \"region_of_employment\",\n      \"properties\": {\n        \"dtype\": \"category\",\n        \"num_unique_values\": 5,\n        \"samples\": [\n          \"Northeast\",\n          \"Island\"\n        ],\n        \"semantic_type\": \"\",\n        \"description\": \"\"\n      }\n    },\n    {\n      \"column\": \"prevailing_wage\",\n      \"properties\": {\n        \"dtype\": \"number\",\n        \"std\": 52815.94232687357,\n        \"min\": 2.1367,\n        \"max\": 319210.27,\n        \"num_unique_values\": 25454,\n        \"samples\": [\n          44218.42,\n          60458.9\n        ],\n        \"semantic_type\": \"\",\n        \"description\": \"\"\n      }\n    },\n    {\n      \"column\": \"unit_of_wage\",\n      \"properties\": {\n        \"dtype\": \"category\",\n        \"num_unique_values\": 4,\n        \"samples\": [\n          \"Year\",\n          \"Month\"\n        ],\n        \"semantic_type\": \"\",\n        \"description\": \"\"\n      }\n    },\n    {\n      \"column\": \"full_time_position\",\n      \"properties\": {\n        \"dtype\": \"category\",\n        \"num_unique_values\": 2,\n        \"samples\": [\n          \"N\",\n          \"Y\"\n        ],\n        \"semantic_type\": \"\",\n        \"description\": \"\"\n      }\n    },\n    {\n      \"column\": \"case_status\",\n      \"properties\": {\n        \"dtype\": \"category\",\n        \"num_unique_values\": 2,\n        \"samples\": [\n          \"Certified\",\n          \"Denied\"\n        ],\n        \"semantic_type\": \"\",\n        \"description\": \"\"\n      }\n    },\n    {\n      \"column\": \"company_age\",\n      \"properties\": {\n        \"dtype\": \"number\",\n        \"std\": 42,\n        \"min\": 8,\n        \"max\": 224,\n        \"num_unique_values\": 199,\n        \"samples\": [\n          181,\n          52\n        ],\n        \"semantic_type\": \"\",\n        \"description\": \"\"\n      }\n    }\n  ]\n}"
            }
          },
          "metadata": {},
          "execution_count": 15
        }
      ]
    },
    {
      "cell_type": "markdown",
      "source": [
        "## Analysing features\n",
        "\n",
        "### Numerical Features\n",
        "**Note:** `O`stands for `object` data type, which is typically used for strings or categorical data in pandas. It essentially means `non-numerical` data.\n",
        "\n"
      ],
      "metadata": {
        "id": "W-tkU7JpTOgH"
      },
      "id": "W-tkU7JpTOgH"
    },
    {
      "cell_type": "code",
      "source": [
        "# Identifying numerical features (i.e., columns that are not of object type)\n",
        "num_features = list(df.select_dtypes(exclude=\"object\").columns)\n",
        "# Displaying the numerical feature columns and their count\n",
        "print(f\"Numerical Feature Columns: {num_features}\")\n",
        "print(f\"Number of Numerical Features: {len(num_features)}\")\n"
      ],
      "metadata": {
        "colab": {
          "base_uri": "https://localhost:8080/"
        },
        "id": "3mq7mC7oT5HW",
        "outputId": "25174d77-4977-4785-ac26-4f3532b4b52d"
      },
      "id": "3mq7mC7oT5HW",
      "execution_count": 16,
      "outputs": [
        {
          "output_type": "stream",
          "name": "stdout",
          "text": [
            "Numerical Feature Columns: ['no_of_employees', 'prevailing_wage', 'company_age']\n",
            "Number of Numerical Features: 3\n"
          ]
        }
      ]
    },
    {
      "cell_type": "markdown",
      "source": [
        "### Categorical Features"
      ],
      "metadata": {
        "id": "LR4DWUlZT9VK"
      },
      "id": "LR4DWUlZT9VK"
    },
    {
      "cell_type": "code",
      "source": [
        "# Identifying categorical features (i.e., columns with object data type)\n",
        "cat_features = [col for col in df.columns if df[col].dtype == 'O']\n",
        "\n",
        "# Displaying the categorical feature columns and their count\n",
        "print(f\"Categorical Feature Columns: {cat_features}\")\n",
        "print(f\"Number of Categorical Features: {len(cat_features)}\")\n"
      ],
      "metadata": {
        "colab": {
          "base_uri": "https://localhost:8080/"
        },
        "id": "FRPvhOXYUCev",
        "outputId": "c61992dc-160d-41d0-ebd9-f9dcfa9150d8"
      },
      "id": "FRPvhOXYUCev",
      "execution_count": 17,
      "outputs": [
        {
          "output_type": "stream",
          "name": "stdout",
          "text": [
            "Categorical Feature Columns: ['continent', 'education_of_employee', 'has_job_experience', 'requires_job_training', 'region_of_employment', 'unit_of_wage', 'full_time_position', 'case_status']\n",
            "Number of Categorical Features: 8\n"
          ]
        }
      ]
    },
    {
      "cell_type": "markdown",
      "source": [
        "### Discrete Features\n",
        "Discrete features can only take specific, distinct values. These are typically counted and cannot take fractional values.\n",
        "\n",
        "**Examples:**\n",
        "\n",
        "* Number of children (e.g., 0, 1, 2, 3)\n",
        "* Number of cars (e.g., 1, 2, 3)\n",
        "* Shoe size (e.g., 7, 8, 9)\n",
        "  \n",
        "**Characteristics:**\n",
        "\n",
        "* Values are typically represented with integers (whole numbers).\n",
        "* Discrete features have gaps between values (e.g., we can’t have 1.5 children).\n",
        "* The range of values can be finite or infinite, but the values are distinct."
      ],
      "metadata": {
        "id": "-Hg2EfvAUHUU"
      },
      "id": "-Hg2EfvAUHUU"
    },
    {
      "cell_type": "code",
      "source": [
        "# Identifying discrete numerical features (i.e., numerical features with 25 or fewer unique values)\n",
        "disc_features = [col for col in num_features if df[col].nunique() <= 25]\n",
        "\n",
        "# Displaying the discrete numerical feature columns\n",
        "disc_features\n"
      ],
      "metadata": {
        "colab": {
          "base_uri": "https://localhost:8080/"
        },
        "id": "jIqV_3o6UONk",
        "outputId": "a16dcb76-f2b0-4dc2-b3cc-535398a8e08b"
      },
      "id": "jIqV_3o6UONk",
      "execution_count": 18,
      "outputs": [
        {
          "output_type": "execute_result",
          "data": {
            "text/plain": [
              "[]"
            ]
          },
          "metadata": {},
          "execution_count": 18
        }
      ]
    },
    {
      "cell_type": "markdown",
      "source": [
        "### Continious features\n",
        "\n",
        "Continuous features can take any value within a given range, including decimal (fractional) values. These are typically measured and can take an infinite number of values.\n",
        "\n",
        "**Examples:**\n",
        "\n",
        "* Height (e.g., 5.72 feet)\n",
        "* Weight (e.g., 72.5 kg)\n",
        "* Temperature (e.g., 98.6°F)\n",
        "\n",
        "**Characteristics:**\n",
        "\n",
        "* Values are often represented with floating-point numbers.\n",
        "* Continuous features have a range (min to max) but can theoretically take any value within that range.\n",
        "* In theory, there are no gaps between values."
      ],
      "metadata": {
        "id": "vxn_AFhxURQG"
      },
      "id": "vxn_AFhxURQG"
    },
    {
      "cell_type": "code",
      "source": [
        "# Identifying continuous numerical features (i.e., numerical features that are not discrete)\n",
        "continuous_features = [col for col in num_features if col not in disc_features]\n",
        "\n",
        "# Displaying the number of continuous numerical features\n",
        "print('Number of Continuous Features:', len(continuous_features))\n"
      ],
      "metadata": {
        "colab": {
          "base_uri": "https://localhost:8080/"
        },
        "id": "UtOs1zYjUc8b",
        "outputId": "ecd38b25-facf-459c-80c9-94e7261b5f1d"
      },
      "id": "UtOs1zYjUc8b",
      "execution_count": 19,
      "outputs": [
        {
          "output_type": "stream",
          "name": "stdout",
          "text": [
            "Number of Continuous Features: 3\n"
          ]
        }
      ]
    },
    {
      "cell_type": "markdown",
      "source": [
        "## Split DataFrame into Inputs and Outputs\n",
        "In this step, we split the DataFrame into two variables:\n",
        "\n",
        "* **X:** This variable contains the independent columns (features) that will be used to make predictions.\n",
        "* **y:** This variable contains the dependent column, specifically the case_status column, which we aim to predict.\n",
        "\n",
        "Before splitting, we encode the case_status values to numerical format, where:\n",
        "\n",
        "* `denied` is encoded as 0\n",
        "* `certified` is encoded as 1\n",
        "\n",
        "This encoding is necessary because machine learning models cannot interpret string labels directly; they require numerical representations to perform calculations effectively."
      ],
      "metadata": {
        "id": "JD4L9bBUUhp6"
      },
      "id": "JD4L9bBUUhp6"
    },
    {
      "cell_type": "code",
      "source": [
        "df.columns"
      ],
      "metadata": {
        "colab": {
          "base_uri": "https://localhost:8080/"
        },
        "id": "sIabd5JcUrYB",
        "outputId": "23345600-2bb2-49d8-e6dd-5faccddabf20"
      },
      "id": "sIabd5JcUrYB",
      "execution_count": 20,
      "outputs": [
        {
          "output_type": "execute_result",
          "data": {
            "text/plain": [
              "Index(['continent', 'education_of_employee', 'has_job_experience',\n",
              "       'requires_job_training', 'no_of_employees', 'region_of_employment',\n",
              "       'prevailing_wage', 'unit_of_wage', 'full_time_position', 'case_status',\n",
              "       'company_age'],\n",
              "      dtype='object')"
            ]
          },
          "metadata": {},
          "execution_count": 20
        }
      ]
    },
    {
      "cell_type": "code",
      "source": [
        "X=df.drop('case_status',axis=1)\n",
        "Y=df['case_status']"
      ],
      "metadata": {
        "id": "X-LdEJ6YUsxj"
      },
      "id": "X-LdEJ6YUsxj",
      "execution_count": 21,
      "outputs": []
    },
    {
      "cell_type": "code",
      "source": [
        "X.head()"
      ],
      "metadata": {
        "colab": {
          "base_uri": "https://localhost:8080/",
          "height": 226
        },
        "id": "eFOKFHK3U-wd",
        "outputId": "1ea57150-f74c-427d-90e0-2b0581e0d87e"
      },
      "id": "eFOKFHK3U-wd",
      "execution_count": 22,
      "outputs": [
        {
          "output_type": "execute_result",
          "data": {
            "text/plain": [
              "  continent education_of_employee has_job_experience requires_job_training  \\\n",
              "0      Asia           High School                  N                     N   \n",
              "1      Asia              Master's                  Y                     N   \n",
              "2      Asia            Bachelor's                  N                     Y   \n",
              "3      Asia            Bachelor's                  N                     N   \n",
              "4    Africa              Master's                  Y                     N   \n",
              "\n",
              "   no_of_employees region_of_employment  prevailing_wage unit_of_wage  \\\n",
              "0            14513                 West         592.2029         Hour   \n",
              "1             2412            Northeast       83425.6500         Year   \n",
              "2            44444                 West      122996.8600         Year   \n",
              "3               98                 West       83434.0300         Year   \n",
              "4             1082                South      149907.3900         Year   \n",
              "\n",
              "  full_time_position  company_age  \n",
              "0                  Y           17  \n",
              "1                  Y           22  \n",
              "2                  Y           16  \n",
              "3                  Y          127  \n",
              "4                  Y           19  "
            ],
            "text/html": [
              "\n",
              "  <div id=\"df-424223ec-597e-4f98-b916-29f6d2d11f73\" class=\"colab-df-container\">\n",
              "    <div>\n",
              "<style scoped>\n",
              "    .dataframe tbody tr th:only-of-type {\n",
              "        vertical-align: middle;\n",
              "    }\n",
              "\n",
              "    .dataframe tbody tr th {\n",
              "        vertical-align: top;\n",
              "    }\n",
              "\n",
              "    .dataframe thead th {\n",
              "        text-align: right;\n",
              "    }\n",
              "</style>\n",
              "<table border=\"1\" class=\"dataframe\">\n",
              "  <thead>\n",
              "    <tr style=\"text-align: right;\">\n",
              "      <th></th>\n",
              "      <th>continent</th>\n",
              "      <th>education_of_employee</th>\n",
              "      <th>has_job_experience</th>\n",
              "      <th>requires_job_training</th>\n",
              "      <th>no_of_employees</th>\n",
              "      <th>region_of_employment</th>\n",
              "      <th>prevailing_wage</th>\n",
              "      <th>unit_of_wage</th>\n",
              "      <th>full_time_position</th>\n",
              "      <th>company_age</th>\n",
              "    </tr>\n",
              "  </thead>\n",
              "  <tbody>\n",
              "    <tr>\n",
              "      <th>0</th>\n",
              "      <td>Asia</td>\n",
              "      <td>High School</td>\n",
              "      <td>N</td>\n",
              "      <td>N</td>\n",
              "      <td>14513</td>\n",
              "      <td>West</td>\n",
              "      <td>592.2029</td>\n",
              "      <td>Hour</td>\n",
              "      <td>Y</td>\n",
              "      <td>17</td>\n",
              "    </tr>\n",
              "    <tr>\n",
              "      <th>1</th>\n",
              "      <td>Asia</td>\n",
              "      <td>Master's</td>\n",
              "      <td>Y</td>\n",
              "      <td>N</td>\n",
              "      <td>2412</td>\n",
              "      <td>Northeast</td>\n",
              "      <td>83425.6500</td>\n",
              "      <td>Year</td>\n",
              "      <td>Y</td>\n",
              "      <td>22</td>\n",
              "    </tr>\n",
              "    <tr>\n",
              "      <th>2</th>\n",
              "      <td>Asia</td>\n",
              "      <td>Bachelor's</td>\n",
              "      <td>N</td>\n",
              "      <td>Y</td>\n",
              "      <td>44444</td>\n",
              "      <td>West</td>\n",
              "      <td>122996.8600</td>\n",
              "      <td>Year</td>\n",
              "      <td>Y</td>\n",
              "      <td>16</td>\n",
              "    </tr>\n",
              "    <tr>\n",
              "      <th>3</th>\n",
              "      <td>Asia</td>\n",
              "      <td>Bachelor's</td>\n",
              "      <td>N</td>\n",
              "      <td>N</td>\n",
              "      <td>98</td>\n",
              "      <td>West</td>\n",
              "      <td>83434.0300</td>\n",
              "      <td>Year</td>\n",
              "      <td>Y</td>\n",
              "      <td>127</td>\n",
              "    </tr>\n",
              "    <tr>\n",
              "      <th>4</th>\n",
              "      <td>Africa</td>\n",
              "      <td>Master's</td>\n",
              "      <td>Y</td>\n",
              "      <td>N</td>\n",
              "      <td>1082</td>\n",
              "      <td>South</td>\n",
              "      <td>149907.3900</td>\n",
              "      <td>Year</td>\n",
              "      <td>Y</td>\n",
              "      <td>19</td>\n",
              "    </tr>\n",
              "  </tbody>\n",
              "</table>\n",
              "</div>\n",
              "    <div class=\"colab-df-buttons\">\n",
              "\n",
              "  <div class=\"colab-df-container\">\n",
              "    <button class=\"colab-df-convert\" onclick=\"convertToInteractive('df-424223ec-597e-4f98-b916-29f6d2d11f73')\"\n",
              "            title=\"Convert this dataframe to an interactive table.\"\n",
              "            style=\"display:none;\">\n",
              "\n",
              "  <svg xmlns=\"http://www.w3.org/2000/svg\" height=\"24px\" viewBox=\"0 -960 960 960\">\n",
              "    <path d=\"M120-120v-720h720v720H120Zm60-500h600v-160H180v160Zm220 220h160v-160H400v160Zm0 220h160v-160H400v160ZM180-400h160v-160H180v160Zm440 0h160v-160H620v160ZM180-180h160v-160H180v160Zm440 0h160v-160H620v160Z\"/>\n",
              "  </svg>\n",
              "    </button>\n",
              "\n",
              "  <style>\n",
              "    .colab-df-container {\n",
              "      display:flex;\n",
              "      gap: 12px;\n",
              "    }\n",
              "\n",
              "    .colab-df-convert {\n",
              "      background-color: #E8F0FE;\n",
              "      border: none;\n",
              "      border-radius: 50%;\n",
              "      cursor: pointer;\n",
              "      display: none;\n",
              "      fill: #1967D2;\n",
              "      height: 32px;\n",
              "      padding: 0 0 0 0;\n",
              "      width: 32px;\n",
              "    }\n",
              "\n",
              "    .colab-df-convert:hover {\n",
              "      background-color: #E2EBFA;\n",
              "      box-shadow: 0px 1px 2px rgba(60, 64, 67, 0.3), 0px 1px 3px 1px rgba(60, 64, 67, 0.15);\n",
              "      fill: #174EA6;\n",
              "    }\n",
              "\n",
              "    .colab-df-buttons div {\n",
              "      margin-bottom: 4px;\n",
              "    }\n",
              "\n",
              "    [theme=dark] .colab-df-convert {\n",
              "      background-color: #3B4455;\n",
              "      fill: #D2E3FC;\n",
              "    }\n",
              "\n",
              "    [theme=dark] .colab-df-convert:hover {\n",
              "      background-color: #434B5C;\n",
              "      box-shadow: 0px 1px 3px 1px rgba(0, 0, 0, 0.15);\n",
              "      filter: drop-shadow(0px 1px 2px rgba(0, 0, 0, 0.3));\n",
              "      fill: #FFFFFF;\n",
              "    }\n",
              "  </style>\n",
              "\n",
              "    <script>\n",
              "      const buttonEl =\n",
              "        document.querySelector('#df-424223ec-597e-4f98-b916-29f6d2d11f73 button.colab-df-convert');\n",
              "      buttonEl.style.display =\n",
              "        google.colab.kernel.accessAllowed ? 'block' : 'none';\n",
              "\n",
              "      async function convertToInteractive(key) {\n",
              "        const element = document.querySelector('#df-424223ec-597e-4f98-b916-29f6d2d11f73');\n",
              "        const dataTable =\n",
              "          await google.colab.kernel.invokeFunction('convertToInteractive',\n",
              "                                                    [key], {});\n",
              "        if (!dataTable) return;\n",
              "\n",
              "        const docLinkHtml = 'Like what you see? Visit the ' +\n",
              "          '<a target=\"_blank\" href=https://colab.research.google.com/notebooks/data_table.ipynb>data table notebook</a>'\n",
              "          + ' to learn more about interactive tables.';\n",
              "        element.innerHTML = '';\n",
              "        dataTable['output_type'] = 'display_data';\n",
              "        await google.colab.output.renderOutput(dataTable, element);\n",
              "        const docLink = document.createElement('div');\n",
              "        docLink.innerHTML = docLinkHtml;\n",
              "        element.appendChild(docLink);\n",
              "      }\n",
              "    </script>\n",
              "  </div>\n",
              "\n",
              "\n",
              "<div id=\"df-7b98e20a-1e0f-4191-be10-617d2d23c36a\">\n",
              "  <button class=\"colab-df-quickchart\" onclick=\"quickchart('df-7b98e20a-1e0f-4191-be10-617d2d23c36a')\"\n",
              "            title=\"Suggest charts\"\n",
              "            style=\"display:none;\">\n",
              "\n",
              "<svg xmlns=\"http://www.w3.org/2000/svg\" height=\"24px\"viewBox=\"0 0 24 24\"\n",
              "     width=\"24px\">\n",
              "    <g>\n",
              "        <path d=\"M19 3H5c-1.1 0-2 .9-2 2v14c0 1.1.9 2 2 2h14c1.1 0 2-.9 2-2V5c0-1.1-.9-2-2-2zM9 17H7v-7h2v7zm4 0h-2V7h2v10zm4 0h-2v-4h2v4z\"/>\n",
              "    </g>\n",
              "</svg>\n",
              "  </button>\n",
              "\n",
              "<style>\n",
              "  .colab-df-quickchart {\n",
              "      --bg-color: #E8F0FE;\n",
              "      --fill-color: #1967D2;\n",
              "      --hover-bg-color: #E2EBFA;\n",
              "      --hover-fill-color: #174EA6;\n",
              "      --disabled-fill-color: #AAA;\n",
              "      --disabled-bg-color: #DDD;\n",
              "  }\n",
              "\n",
              "  [theme=dark] .colab-df-quickchart {\n",
              "      --bg-color: #3B4455;\n",
              "      --fill-color: #D2E3FC;\n",
              "      --hover-bg-color: #434B5C;\n",
              "      --hover-fill-color: #FFFFFF;\n",
              "      --disabled-bg-color: #3B4455;\n",
              "      --disabled-fill-color: #666;\n",
              "  }\n",
              "\n",
              "  .colab-df-quickchart {\n",
              "    background-color: var(--bg-color);\n",
              "    border: none;\n",
              "    border-radius: 50%;\n",
              "    cursor: pointer;\n",
              "    display: none;\n",
              "    fill: var(--fill-color);\n",
              "    height: 32px;\n",
              "    padding: 0;\n",
              "    width: 32px;\n",
              "  }\n",
              "\n",
              "  .colab-df-quickchart:hover {\n",
              "    background-color: var(--hover-bg-color);\n",
              "    box-shadow: 0 1px 2px rgba(60, 64, 67, 0.3), 0 1px 3px 1px rgba(60, 64, 67, 0.15);\n",
              "    fill: var(--button-hover-fill-color);\n",
              "  }\n",
              "\n",
              "  .colab-df-quickchart-complete:disabled,\n",
              "  .colab-df-quickchart-complete:disabled:hover {\n",
              "    background-color: var(--disabled-bg-color);\n",
              "    fill: var(--disabled-fill-color);\n",
              "    box-shadow: none;\n",
              "  }\n",
              "\n",
              "  .colab-df-spinner {\n",
              "    border: 2px solid var(--fill-color);\n",
              "    border-color: transparent;\n",
              "    border-bottom-color: var(--fill-color);\n",
              "    animation:\n",
              "      spin 1s steps(1) infinite;\n",
              "  }\n",
              "\n",
              "  @keyframes spin {\n",
              "    0% {\n",
              "      border-color: transparent;\n",
              "      border-bottom-color: var(--fill-color);\n",
              "      border-left-color: var(--fill-color);\n",
              "    }\n",
              "    20% {\n",
              "      border-color: transparent;\n",
              "      border-left-color: var(--fill-color);\n",
              "      border-top-color: var(--fill-color);\n",
              "    }\n",
              "    30% {\n",
              "      border-color: transparent;\n",
              "      border-left-color: var(--fill-color);\n",
              "      border-top-color: var(--fill-color);\n",
              "      border-right-color: var(--fill-color);\n",
              "    }\n",
              "    40% {\n",
              "      border-color: transparent;\n",
              "      border-right-color: var(--fill-color);\n",
              "      border-top-color: var(--fill-color);\n",
              "    }\n",
              "    60% {\n",
              "      border-color: transparent;\n",
              "      border-right-color: var(--fill-color);\n",
              "    }\n",
              "    80% {\n",
              "      border-color: transparent;\n",
              "      border-right-color: var(--fill-color);\n",
              "      border-bottom-color: var(--fill-color);\n",
              "    }\n",
              "    90% {\n",
              "      border-color: transparent;\n",
              "      border-bottom-color: var(--fill-color);\n",
              "    }\n",
              "  }\n",
              "</style>\n",
              "\n",
              "  <script>\n",
              "    async function quickchart(key) {\n",
              "      const quickchartButtonEl =\n",
              "        document.querySelector('#' + key + ' button');\n",
              "      quickchartButtonEl.disabled = true;  // To prevent multiple clicks.\n",
              "      quickchartButtonEl.classList.add('colab-df-spinner');\n",
              "      try {\n",
              "        const charts = await google.colab.kernel.invokeFunction(\n",
              "            'suggestCharts', [key], {});\n",
              "      } catch (error) {\n",
              "        console.error('Error during call to suggestCharts:', error);\n",
              "      }\n",
              "      quickchartButtonEl.classList.remove('colab-df-spinner');\n",
              "      quickchartButtonEl.classList.add('colab-df-quickchart-complete');\n",
              "    }\n",
              "    (() => {\n",
              "      let quickchartButtonEl =\n",
              "        document.querySelector('#df-7b98e20a-1e0f-4191-be10-617d2d23c36a button');\n",
              "      quickchartButtonEl.style.display =\n",
              "        google.colab.kernel.accessAllowed ? 'block' : 'none';\n",
              "    })();\n",
              "  </script>\n",
              "</div>\n",
              "\n",
              "    </div>\n",
              "  </div>\n"
            ],
            "application/vnd.google.colaboratory.intrinsic+json": {
              "type": "dataframe",
              "variable_name": "X",
              "summary": "{\n  \"name\": \"X\",\n  \"rows\": 25480,\n  \"fields\": [\n    {\n      \"column\": \"continent\",\n      \"properties\": {\n        \"dtype\": \"category\",\n        \"num_unique_values\": 6,\n        \"samples\": [\n          \"Asia\",\n          \"Africa\",\n          \"Oceania\"\n        ],\n        \"semantic_type\": \"\",\n        \"description\": \"\"\n      }\n    },\n    {\n      \"column\": \"education_of_employee\",\n      \"properties\": {\n        \"dtype\": \"category\",\n        \"num_unique_values\": 4,\n        \"samples\": [\n          \"Master's\",\n          \"Doctorate\",\n          \"High School\"\n        ],\n        \"semantic_type\": \"\",\n        \"description\": \"\"\n      }\n    },\n    {\n      \"column\": \"has_job_experience\",\n      \"properties\": {\n        \"dtype\": \"category\",\n        \"num_unique_values\": 2,\n        \"samples\": [\n          \"Y\",\n          \"N\"\n        ],\n        \"semantic_type\": \"\",\n        \"description\": \"\"\n      }\n    },\n    {\n      \"column\": \"requires_job_training\",\n      \"properties\": {\n        \"dtype\": \"category\",\n        \"num_unique_values\": 2,\n        \"samples\": [\n          \"Y\",\n          \"N\"\n        ],\n        \"semantic_type\": \"\",\n        \"description\": \"\"\n      }\n    },\n    {\n      \"column\": \"no_of_employees\",\n      \"properties\": {\n        \"dtype\": \"number\",\n        \"std\": 22877,\n        \"min\": -26,\n        \"max\": 602069,\n        \"num_unique_values\": 7105,\n        \"samples\": [\n          146713,\n          9342\n        ],\n        \"semantic_type\": \"\",\n        \"description\": \"\"\n      }\n    },\n    {\n      \"column\": \"region_of_employment\",\n      \"properties\": {\n        \"dtype\": \"category\",\n        \"num_unique_values\": 5,\n        \"samples\": [\n          \"Northeast\",\n          \"Island\"\n        ],\n        \"semantic_type\": \"\",\n        \"description\": \"\"\n      }\n    },\n    {\n      \"column\": \"prevailing_wage\",\n      \"properties\": {\n        \"dtype\": \"number\",\n        \"std\": 52815.94232687357,\n        \"min\": 2.1367,\n        \"max\": 319210.27,\n        \"num_unique_values\": 25454,\n        \"samples\": [\n          44218.42,\n          60458.9\n        ],\n        \"semantic_type\": \"\",\n        \"description\": \"\"\n      }\n    },\n    {\n      \"column\": \"unit_of_wage\",\n      \"properties\": {\n        \"dtype\": \"category\",\n        \"num_unique_values\": 4,\n        \"samples\": [\n          \"Year\",\n          \"Month\"\n        ],\n        \"semantic_type\": \"\",\n        \"description\": \"\"\n      }\n    },\n    {\n      \"column\": \"full_time_position\",\n      \"properties\": {\n        \"dtype\": \"category\",\n        \"num_unique_values\": 2,\n        \"samples\": [\n          \"N\",\n          \"Y\"\n        ],\n        \"semantic_type\": \"\",\n        \"description\": \"\"\n      }\n    },\n    {\n      \"column\": \"company_age\",\n      \"properties\": {\n        \"dtype\": \"number\",\n        \"std\": 42,\n        \"min\": 8,\n        \"max\": 224,\n        \"num_unique_values\": 199,\n        \"samples\": [\n          181,\n          52\n        ],\n        \"semantic_type\": \"\",\n        \"description\": \"\"\n      }\n    }\n  ]\n}"
            }
          },
          "metadata": {},
          "execution_count": 22
        }
      ]
    },
    {
      "cell_type": "code",
      "source": [
        "X.info()"
      ],
      "metadata": {
        "colab": {
          "base_uri": "https://localhost:8080/"
        },
        "id": "Gtb0cMqunBCU",
        "outputId": "2f74c163-4847-4afb-aa5b-449ea73b477a"
      },
      "id": "Gtb0cMqunBCU",
      "execution_count": 23,
      "outputs": [
        {
          "output_type": "stream",
          "name": "stdout",
          "text": [
            "<class 'pandas.core.frame.DataFrame'>\n",
            "RangeIndex: 25480 entries, 0 to 25479\n",
            "Data columns (total 10 columns):\n",
            " #   Column                 Non-Null Count  Dtype  \n",
            "---  ------                 --------------  -----  \n",
            " 0   continent              25480 non-null  object \n",
            " 1   education_of_employee  25480 non-null  object \n",
            " 2   has_job_experience     25480 non-null  object \n",
            " 3   requires_job_training  25480 non-null  object \n",
            " 4   no_of_employees        25480 non-null  int64  \n",
            " 5   region_of_employment   25480 non-null  object \n",
            " 6   prevailing_wage        25480 non-null  float64\n",
            " 7   unit_of_wage           25480 non-null  object \n",
            " 8   full_time_position     25480 non-null  object \n",
            " 9   company_age            25480 non-null  int64  \n",
            "dtypes: float64(1), int64(2), object(7)\n",
            "memory usage: 1.9+ MB\n"
          ]
        }
      ]
    },
    {
      "cell_type": "code",
      "source": [
        "Y.head()"
      ],
      "metadata": {
        "colab": {
          "base_uri": "https://localhost:8080/",
          "height": 241
        },
        "id": "O67dvF6WVBCd",
        "outputId": "c0878fa5-26bb-4861-9b29-11ccd9b6f6a0"
      },
      "id": "O67dvF6WVBCd",
      "execution_count": 24,
      "outputs": [
        {
          "output_type": "execute_result",
          "data": {
            "text/plain": [
              "0       Denied\n",
              "1    Certified\n",
              "2       Denied\n",
              "3       Denied\n",
              "4    Certified\n",
              "Name: case_status, dtype: object"
            ],
            "text/html": [
              "<div>\n",
              "<style scoped>\n",
              "    .dataframe tbody tr th:only-of-type {\n",
              "        vertical-align: middle;\n",
              "    }\n",
              "\n",
              "    .dataframe tbody tr th {\n",
              "        vertical-align: top;\n",
              "    }\n",
              "\n",
              "    .dataframe thead th {\n",
              "        text-align: right;\n",
              "    }\n",
              "</style>\n",
              "<table border=\"1\" class=\"dataframe\">\n",
              "  <thead>\n",
              "    <tr style=\"text-align: right;\">\n",
              "      <th></th>\n",
              "      <th>case_status</th>\n",
              "    </tr>\n",
              "  </thead>\n",
              "  <tbody>\n",
              "    <tr>\n",
              "      <th>0</th>\n",
              "      <td>Denied</td>\n",
              "    </tr>\n",
              "    <tr>\n",
              "      <th>1</th>\n",
              "      <td>Certified</td>\n",
              "    </tr>\n",
              "    <tr>\n",
              "      <th>2</th>\n",
              "      <td>Denied</td>\n",
              "    </tr>\n",
              "    <tr>\n",
              "      <th>3</th>\n",
              "      <td>Denied</td>\n",
              "    </tr>\n",
              "    <tr>\n",
              "      <th>4</th>\n",
              "      <td>Certified</td>\n",
              "    </tr>\n",
              "  </tbody>\n",
              "</table>\n",
              "</div><br><label><b>dtype:</b> object</label>"
            ]
          },
          "metadata": {},
          "execution_count": 24
        }
      ]
    },
    {
      "cell_type": "code",
      "source": [
        "# Encoding target column\n",
        "from sklearn.preprocessing import LabelEncoder\n",
        "\n",
        "label_encoder = LabelEncoder()\n",
        "\n",
        "# Fit and transform the 'case_status' column and create a new column in the DataFrame\n",
        "Y = label_encoder.fit_transform(df['case_status'])\n",
        "\n",
        "# Verifying the encoding\n",
        "Y[:5]\n"
      ],
      "metadata": {
        "colab": {
          "base_uri": "https://localhost:8080/"
        },
        "id": "fUI8V3F6Vci2",
        "outputId": "212fa19b-4eca-453f-aa54-87060dceb828"
      },
      "id": "fUI8V3F6Vci2",
      "execution_count": 25,
      "outputs": [
        {
          "output_type": "execute_result",
          "data": {
            "text/plain": [
              "array([1, 0, 1, 1, 0])"
            ]
          },
          "metadata": {},
          "execution_count": 25
        }
      ]
    },
    {
      "cell_type": "markdown",
      "source": [
        "## Feature Transformation\n",
        "### Continious Features"
      ],
      "metadata": {
        "id": "6mHSTyCkbvQ7"
      },
      "id": "6mHSTyCkbvQ7"
    },
    {
      "cell_type": "code",
      "source": [
        "# Set the figure size\n",
        "plt.figure(figsize=(10, 6))\n",
        "\n",
        "# List of columns to plot\n",
        "columns = ['no_of_employees', 'prevailing_wage', 'company_age']\n",
        "\n",
        "# Create subplots for each column\n",
        "for i, col in enumerate(columns):\n",
        "    plt.subplot(2, 2, i + 1)  # Create a 2x2 grid for subplots\n",
        "    sns.histplot(x=X[col], color='green', kde=True)  # Adding kernel density estimate (KDE) for better visualization\n",
        "    plt.xlabel(col)\n",
        "    plt.title(f'Distribution of {col}')  # Adding a title for clarity\n",
        "    plt.tight_layout()\n",
        "\n",
        "plt.show()  # Display the plots\n"
      ],
      "metadata": {
        "colab": {
          "base_uri": "https://localhost:8080/",
          "height": 392
        },
        "id": "e4u2XzsUb54J",
        "outputId": "6808b3ac-bd7f-4e2d-e37b-deb469e952ef"
      },
      "id": "e4u2XzsUb54J",
      "execution_count": 26,
      "outputs": [
        {
          "output_type": "display_data",
          "data": {
            "text/plain": [
              "<Figure size 1000x600 with 3 Axes>"
            ],
            "image/png": "[encoded data removed]"
          },
          "metadata": {}
        }
      ]
    },
    {
      "cell_type": "markdown",
      "source": [
        "**Skewness** refers to the asymmetry of the probability distribution of a real-valued random variable. It quantifies how much a distribution deviates from a symmetrical bell curve (normal distribution).\n",
        "\n",
        "* A distribution is **positively skewed** (or right-skewed) if it has a longer tail on the right side.\n",
        "* A distribution is **negatively skewed** (or left-skewed) if it has a longer tail on the left side.\n",
        "* A normal distribution has a skewness of zero, indicating that it is perfectly symmetrical.\n",
        "\n",
        "\n",
        "Understanding skewness is essential because many statistical techniques assume normality. Transforming skewed data can improve model performance and meet the assumptions of parametric tests."
      ],
      "metadata": {
        "id": "PpqpOtwkrkCY"
      },
      "id": "PpqpOtwkrkCY"
    },
    {
      "cell_type": "markdown",
      "source": [
        "#### Checking Skewness\n",
        "To evaluate the skewness of the `no_of_employees`, `prevailing_wage` and `company_age` columns (**continious features**) in our dataset, we can use the following code:"
      ],
      "metadata": {
        "id": "nE_zCZYor0Dv"
      },
      "id": "nE_zCZYor0Dv"
    },
    {
      "cell_type": "code",
      "source": [
        "skewness=X[['no_of_employees','prevailing_wage','company_age']].skew()#skewness for all continious_features\n",
        "skewness"
      ],
      "metadata": {
        "colab": {
          "base_uri": "https://localhost:8080/",
          "height": 178
        },
        "id": "cYj0FOqEr7o3",
        "outputId": "5a7377b3-743e-4524-e439-2d4938acb118"
      },
      "id": "cYj0FOqEr7o3",
      "execution_count": 27,
      "outputs": [
        {
          "output_type": "execute_result",
          "data": {
            "text/plain": [
              "no_of_employees    12.265260\n",
              "prevailing_wage     0.755776\n",
              "company_age         2.037301\n",
              "dtype: float64"
            ],
            "text/html": [
              "<div>\n",
              "<style scoped>\n",
              "    .dataframe tbody tr th:only-of-type {\n",
              "        vertical-align: middle;\n",
              "    }\n",
              "\n",
              "    .dataframe tbody tr th {\n",
              "        vertical-align: top;\n",
              "    }\n",
              "\n",
              "    .dataframe thead th {\n",
              "        text-align: right;\n",
              "    }\n",
              "</style>\n",
              "<table border=\"1\" class=\"dataframe\">\n",
              "  <thead>\n",
              "    <tr style=\"text-align: right;\">\n",
              "      <th></th>\n",
              "      <th>0</th>\n",
              "    </tr>\n",
              "  </thead>\n",
              "  <tbody>\n",
              "    <tr>\n",
              "      <th>no_of_employees</th>\n",
              "      <td>12.265260</td>\n",
              "    </tr>\n",
              "    <tr>\n",
              "      <th>prevailing_wage</th>\n",
              "      <td>0.755776</td>\n",
              "    </tr>\n",
              "    <tr>\n",
              "      <th>company_age</th>\n",
              "      <td>2.037301</td>\n",
              "    </tr>\n",
              "  </tbody>\n",
              "</table>\n",
              "</div><br><label><b>dtype:</b> float64</label>"
            ]
          },
          "metadata": {},
          "execution_count": 27
        }
      ]
    },
    {
      "cell_type": "markdown",
      "source": [
        "Since `no_of_employees` and `company_age` columns exhibit skewness, we can apply a power transform to make the data more Gaussian-like. The `PowerTransformer` in `scikit-learn` can be used for this purpose. It supports the Box-Cox transform (for positive values) and the Yeo-Johnson transform (which can handle zero and negative values).\n",
        "\n"
      ],
      "metadata": {
        "id": "Z1KFtNhztctW"
      },
      "id": "Z1KFtNhztctW"
    },
    {
      "cell_type": "markdown",
      "source": [
        "#### Apply the Yeo-Johnson Transform to the Skewed Columns\n",
        "Apply Power (Yeo-Johnson) Transformer to Check if it can reduces the outliers"
      ],
      "metadata": {
        "id": "t1GHajjysw7k"
      },
      "id": "t1GHajjysw7k"
    },
    {
      "cell_type": "code",
      "source": [
        "from sklearn.preprocessing import PowerTransformer\n",
        "\n",
        "# Initialize the PowerTransformer with Yeo-Johnson\n",
        "power_transformer = PowerTransformer(method='yeo-johnson')\n",
        "\n",
        "transform_features=['no_of_employees','company_age']\n",
        "\n",
        "# Applying the transformation\n",
        "X_copy=power_transformer.fit_transform(X[transform_features])"
      ],
      "metadata": {
        "id": "VRTTmC7zs8zp"
      },
      "id": "VRTTmC7zs8zp",
      "execution_count": 28,
      "outputs": []
    },
    {
      "cell_type": "code",
      "source": [
        "# chaecking type for X_copy\n",
        "type(X_copy)"
      ],
      "metadata": {
        "colab": {
          "base_uri": "https://localhost:8080/"
        },
        "id": "DBK4jtrU0f04",
        "outputId": "d9089d13-40a0-4c9d-9ba7-dccd84fb3c7e"
      },
      "id": "DBK4jtrU0f04",
      "execution_count": 29,
      "outputs": [
        {
          "output_type": "execute_result",
          "data": {
            "text/plain": [
              "numpy.ndarray"
            ]
          },
          "metadata": {},
          "execution_count": 29
        }
      ]
    },
    {
      "cell_type": "code",
      "source": [
        "# turning numpy array to pandas dataframe\n",
        "X_copy = pd.DataFrame(X_copy, columns=transform_features)\n",
        "transofrmed_skewness=X_copy.skew(axis=0, skipna=True)\n",
        "transofrmed_skewness"
      ],
      "metadata": {
        "colab": {
          "base_uri": "https://localhost:8080/",
          "height": 147
        },
        "id": "xPy9b5aat01e",
        "outputId": "af32bc74-791b-4649-9603-76ba3cf81389"
      },
      "id": "xPy9b5aat01e",
      "execution_count": 30,
      "outputs": [
        {
          "output_type": "execute_result",
          "data": {
            "text/plain": [
              "no_of_employees    0.399339\n",
              "company_age        0.103264\n",
              "dtype: float64"
            ],
            "text/html": [
              "<div>\n",
              "<style scoped>\n",
              "    .dataframe tbody tr th:only-of-type {\n",
              "        vertical-align: middle;\n",
              "    }\n",
              "\n",
              "    .dataframe tbody tr th {\n",
              "        vertical-align: top;\n",
              "    }\n",
              "\n",
              "    .dataframe thead th {\n",
              "        text-align: right;\n",
              "    }\n",
              "</style>\n",
              "<table border=\"1\" class=\"dataframe\">\n",
              "  <thead>\n",
              "    <tr style=\"text-align: right;\">\n",
              "      <th></th>\n",
              "      <th>0</th>\n",
              "    </tr>\n",
              "  </thead>\n",
              "  <tbody>\n",
              "    <tr>\n",
              "      <th>no_of_employees</th>\n",
              "      <td>0.399339</td>\n",
              "    </tr>\n",
              "    <tr>\n",
              "      <th>company_age</th>\n",
              "      <td>0.103264</td>\n",
              "    </tr>\n",
              "  </tbody>\n",
              "</table>\n",
              "</div><br><label><b>dtype:</b> float64</label>"
            ]
          },
          "metadata": {},
          "execution_count": 30
        }
      ]
    },
    {
      "cell_type": "code",
      "source": [
        "# Visualize the Columns to view unskewed results\n",
        "# Set the figure size\n",
        "plt.figure(figsize=(10, 6))\n",
        "\n",
        "# Loop through each feature and create subplots\n",
        "for i, col in enumerate(transform_features):\n",
        "    plt.subplot(1, len(transform_features), i + 1)  # Dynamic subplot based on number of features\n",
        "    sns.histplot(x=X_copy[col], color='green', kde=True)  # Adding KDE for smoother visualization\n",
        "    plt.xlabel(col)\n",
        "    plt.title(f'Distribution of {col}')  # Adding titles for clarity\n",
        "    plt.tight_layout()\n",
        "\n",
        "# Display the plots\n",
        "plt.show()"
      ],
      "metadata": {
        "colab": {
          "base_uri": "https://localhost:8080/",
          "height": 393
        },
        "id": "SqWnE_dewLQU",
        "outputId": "5e3dd8e6-287c-492f-bbe2-5a25292dbe1d"
      },
      "id": "SqWnE_dewLQU",
      "execution_count": 31,
      "outputs": [
        {
          "output_type": "display_data",
          "data": {
            "text/plain": [
              "<Figure size 1000x600 with 2 Axes>"
            ],
            "image/png": "[encoded data removed]"
          },
          "metadata": {}
        }
      ]
    },
    {
      "cell_type": "markdown",
      "source": [
        "### Categorical Features"
      ],
      "metadata": {
        "id": "7WMD4c_SxhN2"
      },
      "id": "7WMD4c_SxhN2"
    },
    {
      "cell_type": "code",
      "source": [
        "# Display the number of unique values for each categorical feature\n",
        "print(\"Unique values in categorical features:\")\n",
        "for feature in cat_features:\n",
        "    unique_count = df[feature].nunique()\n",
        "    print(f\"{feature}: {unique_count}\")\n"
      ],
      "metadata": {
        "colab": {
          "base_uri": "https://localhost:8080/"
        },
        "id": "9CbpXO4qxnWN",
        "outputId": "76dfa84e-a891-4f17-c1d9-5948be9c1667"
      },
      "id": "9CbpXO4qxnWN",
      "execution_count": 32,
      "outputs": [
        {
          "output_type": "stream",
          "name": "stdout",
          "text": [
            "Unique values in categorical features:\n",
            "continent: 6\n",
            "education_of_employee: 4\n",
            "has_job_experience: 2\n",
            "requires_job_training: 2\n",
            "region_of_employment: 5\n",
            "unit_of_wage: 4\n",
            "full_time_position: 2\n",
            "case_status: 2\n"
          ]
        }
      ]
    },
    {
      "cell_type": "markdown",
      "source": [
        "## Feature Encoding and Feature Scaling\n",
        "\n",
        "\n",
        "Feature encoding and scaling are crucial preprocessing steps in preparing our data for machine learning models. These techniques ensure that the input data is in a suitable format and scale for effective modeling.\n",
        "\n",
        "### 1. One-Hot Encoding\n",
        "\n",
        "**One-Hot Encoding** is a method used to convert categorical variables with a **limited number of unique values** that are **not ordinal** into a numerical format. This encoding creates binary columns for each category, allowing machine learning algorithms to interpret categorical data effectively.\n",
        "\n",
        "- **Purpose**: To facilitate better predictions by converting categorical variables into a format suitable for ML algorithms.\n",
        "  \n",
        "### 2. Ordinal Encoding\n",
        "\n",
        "**Ordinal Encoding** is applied to categorical variables that have a **ranked order** among the categories. It is particularly useful for columns with **many unique categories**, where the order is significant.\n",
        "\n",
        "- **Use Case**: For ordinal variables, which comprise a finite set of discrete values with a ranked ordering, Ordinal Encoding transforms the categorical values into integers based on their rank.\n",
        "- **Implementation**: Label encoding is supported within column transformers, making it straightforward to integrate into preprocessing pipelines.\n",
        "\n",
        "### 3. Standard Scaler\n",
        "\n",
        "The **Standard Scaler** standardizes features by removing the mean and scaling them to unit variance. This scaling technique is essential for algorithms that are sensitive to the scale of the data (such as k-NN, SVM, etc.).\n",
        "\n",
        "- **Purpose**: To ensure that all numerical features contribute equally to the distance calculations in algorithms that rely on feature scale.\n",
        "\n",
        "### 4. Power Transformer\n",
        "\n",
        "**Power Transforms** are techniques used to transform numerical input or output variables to follow a Gaussian or more Gaussian-like distribution. This transformation can help with modeling issues related to heteroscedasticity (non-constant variance) or other situations where normality is desired.\n",
        "\n",
        "- **Types**: The **PowerTransformer** supports methods like Box-Cox and Yeo-Johnson for different types of data distributions.\n",
        "\n",
        "### Selecting Features for Preprocessing\n",
        "\n",
        "When selecting features for preprocessing, consider the following:\n",
        "\n",
        "- **One-Hot Encoding**: Use for categorical features with a small number of unique values and no intrinsic order.\n",
        "- **Ordinal Encoding**: Use for categorical features that have a natural order or ranking.\n",
        "- **Standard Scaler**: Apply to all numerical features to standardize their scale.\n",
        "- **Power Transformer**: Utilize for numerical features that exhibit skewness to make their distribution more Gaussian-like.\n"
      ],
      "metadata": {
        "id": "f7yVEiO0yOVq"
      },
      "id": "f7yVEiO0yOVq"
    },
    {
      "cell_type": "markdown",
      "source": [
        "### Selecting Features for Preprocessing"
      ],
      "metadata": {
        "id": "jdd1PBRH1sj3"
      },
      "id": "jdd1PBRH1sj3"
    },
    {
      "cell_type": "code",
      "source": [
        "num_features=list(X.select_dtypes(exclude=\"object\").columns)\n",
        "num_features"
      ],
      "metadata": {
        "colab": {
          "base_uri": "https://localhost:8080/"
        },
        "id": "LNv9fJmsyTTX",
        "outputId": "b90f2e4c-00eb-4f37-b820-3b4ba43f92f5"
      },
      "id": "LNv9fJmsyTTX",
      "execution_count": 33,
      "outputs": [
        {
          "output_type": "execute_result",
          "data": {
            "text/plain": [
              "['no_of_employees', 'prevailing_wage', 'company_age']"
            ]
          },
          "metadata": {},
          "execution_count": 33
        }
      ]
    },
    {
      "cell_type": "markdown",
      "source": [
        "### Preprocessing using Column Transformer"
      ],
      "metadata": {
        "id": "OUZhXs1J2jA1"
      },
      "id": "OUZhXs1J2jA1"
    },
    {
      "cell_type": "code",
      "source": [
        "# Import necessary libraries\n",
        "from sklearn.preprocessing import OneHotEncoder, StandardScaler, OrdinalEncoder, PowerTransformer\n",
        "from sklearn.compose import ColumnTransformer\n",
        "from sklearn.pipeline import Pipeline\n",
        "\n",
        "# Define columns for different types of transformations\n",
        "ordinal_columns = ['has_job_experience', 'requires_job_training', 'full_time_position', 'education_of_employee']\n",
        "one_hot_columns = ['continent', 'unit_of_wage', 'region_of_employment']\n",
        "transform_columns = ['no_of_employees', 'company_age']\n",
        "numeric_features = num_features\n",
        "\n",
        "# Create transformers for different types of data\n",
        "numeric_transformer = StandardScaler()  # For scaling numerical features\n",
        "one_hot_transformer = OneHotEncoder()   # For one-hot encoding categorical features\n",
        "ordinal_transformer = OrdinalEncoder()   # For ordinal encoding of ranked categories\n",
        "\n",
        "# Create a pipeline for the Power Transformer\n",
        "transform_pipeline = Pipeline(steps=[\n",
        "    ('power_transformer', PowerTransformer(method='yeo-johnson'))  # Apply Yeo-Johnson transformation\n",
        "])\n",
        "\n",
        "# Create a Column Transformer to apply the transformations\n",
        "preprocessor = ColumnTransformer(\n",
        "    transformers=[\n",
        "        (\"one_hot_encoder\", one_hot_transformer, one_hot_columns),        # One-Hot Encoding\n",
        "        (\"ordinal_encoder\", ordinal_transformer, ordinal_columns),         # Ordinal Encoding\n",
        "        (\"power_transform\", transform_pipeline, transform_columns),        # Power Transformation\n",
        "        (\"standard_scaler\", numeric_transformer, numeric_features)        # Standard Scaling\n",
        "    ]\n",
        ")\n"
      ],
      "metadata": {
        "id": "qjjbAEmd2t3Q"
      },
      "id": "qjjbAEmd2t3Q",
      "execution_count": 34,
      "outputs": []
    },
    {
      "cell_type": "code",
      "source": [
        "# Applying custom transform\n",
        "X=preprocessor.fit_transform(X)\n",
        "X"
      ],
      "metadata": {
        "colab": {
          "base_uri": "https://localhost:8080/"
        },
        "id": "cWLJWIyI3VhI",
        "outputId": "ceea570e-34fb-46df-8ce0-ec2b31b323b6"
      },
      "id": "cWLJWIyI3VhI",
      "execution_count": 35,
      "outputs": [
        {
          "output_type": "execute_result",
          "data": {
            "text/plain": [
              "array([[ 0.        ,  1.        ,  0.        , ...,  0.38666657,\n",
              "        -1.39853722, -0.65122993],\n",
              "       [ 0.        ,  1.        ,  0.        , ..., -0.14228155,\n",
              "         0.1698353 , -0.53321103],\n",
              "       [ 0.        ,  1.        ,  0.        , ...,  1.69498375,\n",
              "         0.91907852, -0.6748337 ],\n",
              "       ...,\n",
              "       [ 0.        ,  1.        ,  0.        , ..., -0.19871259,\n",
              "         1.36027953,  1.63833662],\n",
              "       [ 0.        ,  1.        ,  0.        , ..., -0.16387483,\n",
              "         0.22150859,  2.18122353],\n",
              "       [ 0.        ,  1.        ,  0.        , ..., -0.10805575,\n",
              "        -0.06776315,  0.45814768]])"
            ]
          },
          "metadata": {},
          "execution_count": 35
        }
      ]
    },
    {
      "cell_type": "markdown",
      "source": [
        "### Handling Imbalanced Classes with SMOTE and Tomek Links\n",
        "\n",
        "When dealing with classification problems, especially in scenarios where one class is significantly underrepresented, the model may struggle to learn from the minority class. To address this issue, resampling techniques can be employed to balance the class distribution.\n",
        "\n",
        "#### SMOTE and Tomek Links\n",
        "\n",
        "**SMOTE** (Synthetic Minority Over-sampling Technique) is an oversampling technique that generates synthetic samples for the minority class. **Tomek Links** are used to clean up the decision boundary by removing instances from the majority class that are nearest to the minority class.\n",
        "\n",
        "The `SMOTEENN` class combines both techniques, applying SMOTE for oversampling and Tomek Links for undersampling, resulting in a more balanced dataset.\n",
        "\n",
        "#### Implementation Steps\n",
        "\n",
        "1. **Import Necessary Libraries**: The `SMOTETomek` and `SMOTEENN` classes from the `imblearn.combine` module are imported to enable the use of these resampling techniques.\n",
        "\n",
        "2. **Initialize the Resampling Strategy**: An instance of the `SMOTEENN` class is created, specifying the desired sampling strategy and a random seed for reproducibility.\n",
        "\n",
        "   - **Parameters**:\n",
        "     - `random_state`: Ensures the results are consistent across different runs.\n",
        "     - `sampling_strategy`: Defines the target class to be oversampled; in this case, the minority class.\n",
        "\n",
        "3. **Fit the Model and Resample the Data**: The `fit_resample` method is called to generate a new balanced dataset based on the original features `X` and target variable `y`.\n"
      ],
      "metadata": {
        "id": "Lo4LYaH838WP"
      },
      "id": "Lo4LYaH838WP"
    },
    {
      "cell_type": "code",
      "source": [
        "# 1. Import Necessary Libraries\n",
        "from imblearn.combine import SMOTETomek, SMOTEENN\n",
        "# 2. Initialize the Resampling Strategy\n",
        "smt = SMOTEENN(random_state=42,sampling_strategy='minority' )\n",
        "# Fit the Model and Resample the Data\n",
        "X_res, Y_res = smt.fit_resample(X, Y)\n",
        "# X_res: Resampled feature set.\n",
        "# Y_res: Resampled target variable."
      ],
      "metadata": {
        "id": "xkU4i_Mv4JdK"
      },
      "id": "xkU4i_Mv4JdK",
      "execution_count": 36,
      "outputs": []
    },
    {
      "cell_type": "markdown",
      "source": [
        "### Train-Test Split\n",
        "\n",
        "The **train-test split** is a crucial procedure in machine learning used to evaluate the performance of algorithms when predicting outcomes on unseen data. This technique helps ensure that the model is capable of generalizing well beyond the data it was trained on.\n",
        "\n",
        "#### Key Points:\n",
        "\n",
        "- **Purpose**: The primary goal of the train-test split is to provide a fair assessment of how well a machine learning model can make predictions on new, unseen data.\n",
        "\n",
        "- **Procedure**: The dataset is divided into two subsets:\n",
        "  - **Training Set**: This portion is used to train the model, allowing it to learn the underlying patterns in the data.\n",
        "  - **Test Set**: This subset is kept separate and is used to evaluate the model's performance after training.\n",
        "\n",
        "- **Benefits**:\n",
        "  - **Simplicity**: The train-test split is a straightforward and efficient method for assessing model performance.\n",
        "  - **Comparison**: By using this method, you can easily compare the performance of different machine learning algorithms and select the one that performs best on unseen data."
      ],
      "metadata": {
        "id": "QVAWXML_49hH"
      },
      "id": "QVAWXML_49hH"
    },
    {
      "cell_type": "code",
      "source": [
        "from sklearn.model_selection import train_test_split\n",
        "\n",
        "X_train,X_test,Y_train,Y_test=train_test_split(X_res,Y_res,\n",
        "                                               test_size=0.2,\n",
        "                                               train_size=0.8,\n",
        "                                               random_state=42,)"
      ],
      "metadata": {
        "id": "ojmGb-oQ5NzP"
      },
      "id": "ojmGb-oQ5NzP",
      "execution_count": 37,
      "outputs": []
    },
    {
      "cell_type": "code",
      "source": [
        "# looking at the shape of train set\n",
        "X_train.shape,Y_train.shape"
      ],
      "metadata": {
        "colab": {
          "base_uri": "https://localhost:8080/"
        },
        "id": "4z4IMgaI_0XC",
        "outputId": "2a117d08-26a6-4492-be0a-0a1989fa1e9b"
      },
      "id": "4z4IMgaI_0XC",
      "execution_count": 38,
      "outputs": [
        {
          "output_type": "execute_result",
          "data": {
            "text/plain": [
              "((13638, 24), (13638,))"
            ]
          },
          "metadata": {},
          "execution_count": 38
        }
      ]
    },
    {
      "cell_type": "code",
      "source": [
        "# looking at the shape of test set\n",
        "X_test.shape,Y_test.shape"
      ],
      "metadata": {
        "colab": {
          "base_uri": "https://localhost:8080/"
        },
        "id": "RsDZJwhg_43K",
        "outputId": "393b2181-20ea-4b3d-fb3e-702b114b4e96"
      },
      "id": "RsDZJwhg_43K",
      "execution_count": 39,
      "outputs": [
        {
          "output_type": "execute_result",
          "data": {
            "text/plain": [
              "((3410, 24), (3410,))"
            ]
          },
          "metadata": {},
          "execution_count": 39
        }
      ]
    },
    {
      "cell_type": "markdown",
      "source": [
        "# Model Training Setup"
      ],
      "metadata": {
        "id": "jMnZqjdYIHZj"
      },
      "id": "jMnZqjdYIHZj"
    },
    {
      "cell_type": "code",
      "source": [
        "from sklearn.ensemble import RandomForestClassifier, AdaBoostClassifier,GradientBoostingClassifier\n",
        "from sklearn.linear_model import LogisticRegression\n",
        "from sklearn.neighbors import KNeighborsClassifier\n",
        "from sklearn.tree import DecisionTreeClassifier\n",
        "from sklearn.svm import SVC\n",
        "from sklearn.metrics import accuracy_score, classification_report,\\\n",
        "                            ConfusionMatrixDisplay,precision_score,\\\n",
        "                            recall_score,f1_score,roc_auc_score,\\\n",
        "                            roc_curve\n",
        "from xgboost import XGBClassifier\n",
        "\n",
        "try:\n",
        " from catboost import CatBoostClassifier\n",
        "except:\n",
        "  !pip install catboost\n",
        "  from catboost import CatBoostClassifier\n",
        "\n"
      ],
      "metadata": {
        "colab": {
          "base_uri": "https://localhost:8080/"
        },
        "id": "jbeO9um9IOPw",
        "outputId": "6d1ade43-42dd-4806-d7a5-af4c92e4f6c6"
      },
      "id": "jbeO9um9IOPw",
      "execution_count": 40,
      "outputs": [
        {
          "output_type": "stream",
          "name": "stdout",
          "text": [
            "Collecting catboost\n",
            "  Downloading catboost-1.2.7-cp310-cp310-manylinux2014_x86_64.whl.metadata (1.2 kB)\n",
            "Requirement already satisfied: graphviz in /usr/local/lib/python3.10/dist-packages (from catboost) (0.20.3)\n",
            "Requirement already satisfied: matplotlib in /usr/local/lib/python3.10/dist-packages (from catboost) (3.7.1)\n",
            "Requirement already satisfied: numpy<2.0,>=1.16.0 in /usr/local/lib/python3.10/dist-packages (from catboost) (1.26.4)\n",
            "Requirement already satisfied: pandas>=0.24 in /usr/local/lib/python3.10/dist-packages (from catboost) (2.2.2)\n",
            "Requirement already satisfied: scipy in /usr/local/lib/python3.10/dist-packages (from catboost) (1.13.1)\n",
            "Requirement already satisfied: plotly in /usr/local/lib/python3.10/dist-packages (from catboost) (5.24.1)\n",
            "Requirement already satisfied: six in /usr/local/lib/python3.10/dist-packages (from catboost) (1.16.0)\n",
            "Requirement already satisfied: python-dateutil>=2.8.2 in /usr/local/lib/python3.10/dist-packages (from pandas>=0.24->catboost) (2.8.2)\n",
            "Requirement already satisfied: pytz>=2020.1 in /usr/local/lib/python3.10/dist-packages (from pandas>=0.24->catboost) (2024.2)\n",
            "Requirement already satisfied: tzdata>=2022.7 in /usr/local/lib/python3.10/dist-packages (from pandas>=0.24->catboost) (2024.2)\n",
            "Requirement already satisfied: contourpy>=1.0.1 in /usr/local/lib/python3.10/dist-packages (from matplotlib->catboost) (1.3.0)\n",
            "Requirement already satisfied: cycler>=0.10 in /usr/local/lib/python3.10/dist-packages (from matplotlib->catboost) (0.12.1)\n",
            "Requirement already satisfied: fonttools>=4.22.0 in /usr/local/lib/python3.10/dist-packages (from matplotlib->catboost) (4.54.1)\n",
            "Requirement already satisfied: kiwisolver>=1.0.1 in /usr/local/lib/python3.10/dist-packages (from matplotlib->catboost) (1.4.7)\n",
            "Requirement already satisfied: packaging>=20.0 in /usr/local/lib/python3.10/dist-packages (from matplotlib->catboost) (24.1)\n",
            "Requirement already satisfied: pillow>=6.2.0 in /usr/local/lib/python3.10/dist-packages (from matplotlib->catboost) (10.4.0)\n",
            "Requirement already satisfied: pyparsing>=2.3.1 in /usr/local/lib/python3.10/dist-packages (from matplotlib->catboost) (3.1.4)\n",
            "Requirement already satisfied: tenacity>=6.2.0 in /usr/local/lib/python3.10/dist-packages (from plotly->catboost) (9.0.0)\n",
            "Downloading catboost-1.2.7-cp310-cp310-manylinux2014_x86_64.whl (98.7 MB)\n",
            "\u001b[2K   \u001b[90m━━━━━━━━━━━━━━━━━━━━━━━━━━━━━━━━━━━━━━━━\u001b[0m \u001b[32m98.7/98.7 MB\u001b[0m \u001b[31m9.9 MB/s\u001b[0m eta \u001b[36m0:00:00\u001b[0m\n",
            "\u001b[?25hInstalling collected packages: catboost\n",
            "Successfully installed catboost-1.2.7\n"
          ]
        }
      ]
    },
    {
      "cell_type": "code",
      "source": [
        "def evaluate_model(y_true, y_pred):\n",
        "    \"\"\"\n",
        "    Evaluate the performance of a classification model.\n",
        "\n",
        "    Args:\n",
        "        y_true: The true labels.\n",
        "        y_pred: The predicted labels by the model.\n",
        "\n",
        "    Returns:\n",
        "        A tuple containing the accuracy, F1 score, precision, recall, and ROC AUC score.\n",
        "    \"\"\"\n",
        "    # Calculate performance metrics\n",
        "    acc = accuracy_score(y_true, y_pred)\n",
        "    f1 = f1_score(y_true, y_pred, average='weighted')  # You can specify average='macro' or 'micro' as needed\n",
        "    precision = precision_score(y_true, y_pred, average='weighted')  # Same for precision\n",
        "    recall = recall_score(y_true, y_pred, average='weighted')  # Same for recall\n",
        "    roc_auc = roc_auc_score(y_true, y_pred)  # ROC AUC requires probabilities, adjust accordingly\n",
        "\n",
        "    return acc, f1, precision, recall, roc_auc"
      ],
      "metadata": {
        "id": "jwtIxBSZJ-jw"
      },
      "id": "jwtIxBSZJ-jw",
      "execution_count": 41,
      "outputs": []
    },
    {
      "cell_type": "code",
      "source": [
        "# Define the models to evaluate\n",
        "models = {\n",
        "    \"Random Forest\": RandomForestClassifier(),\n",
        "    \"Decision Tree\": DecisionTreeClassifier(),\n",
        "    \"Gradient Boosting\": GradientBoostingClassifier(),\n",
        "    \"Logistic Regression\": LogisticRegression(),\n",
        "    \"K-Neighbors Classifier\": KNeighborsClassifier(),\n",
        "    \"XGBClassifier\": XGBClassifier(),\n",
        "    \"CatBoosting Classifier\": CatBoostClassifier(verbose=False),\n",
        "    \"Support Vector Classifier\": SVC(),\n",
        "    \"AdaBoost Classifier\": AdaBoostClassifier()\n",
        "}\n"
      ],
      "metadata": {
        "id": "aPUJJBZSK4en"
      },
      "id": "aPUJJBZSK4en",
      "execution_count": 42,
      "outputs": []
    },
    {
      "cell_type": "code",
      "source": [
        "def train_and_evaluate_models(X, Y, models):\n",
        "    \"\"\"\n",
        "    Train and evaluate different models and log the results to TensorBoard.\n",
        "\n",
        "    Args:\n",
        "        X: Features dataset.\n",
        "        Y: Target variable.\n",
        "        models: Dictionary of models to evaluate.\n",
        "        log_dir: Directory for storing TensorBoard logs.\n",
        "\n",
        "    Returns:\n",
        "        DataFrame containing the report of all model metrics.\n",
        "    \"\"\"\n",
        "    # Split the data into training and testing sets\n",
        "    X_train, X_test, Y_train, Y_test = train_test_split(X, Y, test_size=0.2, random_state=42)\n",
        "\n",
        "    # Lists to hold evaluation metrics\n",
        "    models_list = []\n",
        "    accuracy_list = []\n",
        "    auc_list = []\n",
        "\n",
        "    for model_name, model in models.items():\n",
        "        print(f\"Training {model_name}...\")\n",
        "\n",
        "        # Fit the model\n",
        "        model.fit(X_train, Y_train)\n",
        "\n",
        "        # Make predictions\n",
        "        Y_train_pred = model.predict(X_train)\n",
        "        Y_test_pred = model.predict(X_test)\n",
        "\n",
        "        # Evaluate model performance on training set\n",
        "        train_metrics = evaluate_model(Y_train, Y_train_pred)\n",
        "        print(f'Model performance for {model_name} on Training set:')\n",
        "        print(f'- Accuracy: {train_metrics[0]:.4f}')\n",
        "        print(f'- F1 Score: {train_metrics[1]:.4f}')\n",
        "        print(f'- Precision: {train_metrics[2]:.4f}')\n",
        "        print(f'- Recall: {train_metrics[3]:.4f}')\n",
        "\n",
        "        # Evaluate model performance on test set\n",
        "        test_metrics = evaluate_model(Y_test, Y_test_pred)\n",
        "        print(f'Model performance for {model_name} on Test set:')\n",
        "        print(f'- Accuracy: {test_metrics[0]:.4f}')\n",
        "        accuracy_list.append(test_metrics[0])\n",
        "        print(f'- F1 Score: {test_metrics[1]:.4f}')\n",
        "        print(f'- Precision: {test_metrics[2]:.4f}')\n",
        "        print(f'- Recall: {test_metrics[3]:.4f}')\n",
        "\n",
        "        models_list.append(model_name)\n",
        "        print('=' * 35)\n",
        "\n",
        "    # Create a report DataFrame\n",
        "    report = pd.DataFrame(list(zip(models_list, accuracy_list)), columns=['Model Name', 'Accuracy']).sort_values(by=['Accuracy'], ascending=False)\n",
        "\n",
        "    return report"
      ],
      "metadata": {
        "id": "bvVezftwLLUn"
      },
      "id": "bvVezftwLLUn",
      "execution_count": 43,
      "outputs": []
    },
    {
      "cell_type": "code",
      "source": [
        "# Call the function to train and evaluate models\n",
        "report = train_and_evaluate_models(X=X_res,Y=Y_res,models=models)"
      ],
      "metadata": {
        "colab": {
          "base_uri": "https://localhost:8080/"
        },
        "id": "x_Bg3OzxMD7H",
        "outputId": "490d0735-0cb5-4dc2-9b43-b69f141696f5"
      },
      "id": "x_Bg3OzxMD7H",
      "execution_count": 44,
      "outputs": [
        {
          "output_type": "stream",
          "name": "stdout",
          "text": [
            "Training Random Forest...\n",
            "Model performance for Random Forest on Training set:\n",
            "- Accuracy: 1.0000\n",
            "- F1 Score: 1.0000\n",
            "- Precision: 1.0000\n",
            "- Recall: 1.0000\n",
            "Model performance for Random Forest on Test set:\n",
            "- Accuracy: 0.9534\n",
            "- F1 Score: 0.9534\n",
            "- Precision: 0.9534\n",
            "- Recall: 0.9534\n",
            "===================================\n",
            "Training Decision Tree...\n",
            "Model performance for Decision Tree on Training set:\n",
            "- Accuracy: 1.0000\n",
            "- F1 Score: 1.0000\n",
            "- Precision: 1.0000\n",
            "- Recall: 1.0000\n",
            "Model performance for Decision Tree on Test set:\n",
            "- Accuracy: 0.9293\n",
            "- F1 Score: 0.9293\n",
            "- Precision: 0.9293\n",
            "- Recall: 0.9293\n",
            "===================================\n",
            "Training Gradient Boosting...\n",
            "Model performance for Gradient Boosting on Training set:\n",
            "- Accuracy: 0.8822\n",
            "- F1 Score: 0.8823\n",
            "- Precision: 0.8824\n",
            "- Recall: 0.8822\n",
            "Model performance for Gradient Boosting on Test set:\n",
            "- Accuracy: 0.8956\n",
            "- F1 Score: 0.8957\n",
            "- Precision: 0.8958\n",
            "- Recall: 0.8956\n",
            "===================================\n",
            "Training Logistic Regression...\n",
            "Model performance for Logistic Regression on Training set:\n",
            "- Accuracy: 0.7348\n",
            "- F1 Score: 0.7351\n",
            "- Precision: 0.7358\n",
            "- Recall: 0.7348\n",
            "Model performance for Logistic Regression on Test set:\n",
            "- Accuracy: 0.7452\n",
            "- F1 Score: 0.7456\n",
            "- Precision: 0.7470\n",
            "- Recall: 0.7452\n",
            "===================================\n",
            "Training K-Neighbors Classifier...\n",
            "Model performance for K-Neighbors Classifier on Training set:\n",
            "- Accuracy: 0.9636\n",
            "- F1 Score: 0.9636\n",
            "- Precision: 0.9639\n",
            "- Recall: 0.9636\n",
            "Model performance for K-Neighbors Classifier on Test set:\n",
            "- Accuracy: 0.9402\n",
            "- F1 Score: 0.9401\n",
            "- Precision: 0.9405\n",
            "- Recall: 0.9402\n",
            "===================================\n",
            "Training XGBClassifier...\n",
            "Model performance for XGBClassifier on Training set:\n",
            "- Accuracy: 0.9809\n",
            "- F1 Score: 0.9809\n",
            "- Precision: 0.9809\n",
            "- Recall: 0.9809\n",
            "Model performance for XGBClassifier on Test set:\n",
            "- Accuracy: 0.9352\n",
            "- F1 Score: 0.9352\n",
            "- Precision: 0.9353\n",
            "- Recall: 0.9352\n",
            "===================================\n",
            "Training CatBoosting Classifier...\n",
            "Model performance for CatBoosting Classifier on Training set:\n",
            "- Accuracy: 0.9527\n",
            "- F1 Score: 0.9527\n",
            "- Precision: 0.9528\n",
            "- Recall: 0.9527\n",
            "Model performance for CatBoosting Classifier on Test set:\n",
            "- Accuracy: 0.9296\n",
            "- F1 Score: 0.9297\n",
            "- Precision: 0.9302\n",
            "- Recall: 0.9296\n",
            "===================================\n",
            "Training Support Vector Classifier...\n",
            "Model performance for Support Vector Classifier on Training set:\n",
            "- Accuracy: 0.8716\n",
            "- F1 Score: 0.8716\n",
            "- Precision: 0.8716\n",
            "- Recall: 0.8716\n",
            "Model performance for Support Vector Classifier on Test set:\n",
            "- Accuracy: 0.8701\n",
            "- F1 Score: 0.8701\n",
            "- Precision: 0.8701\n",
            "- Recall: 0.8701\n",
            "===================================\n",
            "Training AdaBoost Classifier...\n"
          ]
        },
        {
          "output_type": "stream",
          "name": "stderr",
          "text": [
            "/usr/local/lib/python3.10/dist-packages/sklearn/ensemble/_weight_boosting.py:527: FutureWarning: The SAMME.R algorithm (the default) is deprecated and will be removed in 1.6. Use the SAMME algorithm to circumvent this warning.\n",
            "  warnings.warn(\n"
          ]
        },
        {
          "output_type": "stream",
          "name": "stdout",
          "text": [
            "Model performance for AdaBoost Classifier on Training set:\n",
            "- Accuracy: 0.8539\n",
            "- F1 Score: 0.8539\n",
            "- Precision: 0.8541\n",
            "- Recall: 0.8539\n",
            "Model performance for AdaBoost Classifier on Test set:\n",
            "- Accuracy: 0.8683\n",
            "- F1 Score: 0.8684\n",
            "- Precision: 0.8687\n",
            "- Recall: 0.8683\n",
            "===================================\n"
          ]
        }
      ]
    },
    {
      "cell_type": "code",
      "source": [
        "# view training report\n",
        "report"
      ],
      "metadata": {
        "colab": {
          "base_uri": "https://localhost:8080/",
          "height": 331
        },
        "id": "VwA09rU6IRtA",
        "outputId": "a1d9f845-7d80-49a4-a7c2-ee9b37981010"
      },
      "id": "VwA09rU6IRtA",
      "execution_count": 45,
      "outputs": [
        {
          "output_type": "execute_result",
          "data": {
            "text/plain": [
              "                  Model Name  Accuracy\n",
              "0              Random Forest  0.953372\n",
              "4     K-Neighbors Classifier  0.940176\n",
              "5              XGBClassifier  0.935191\n",
              "6     CatBoosting Classifier  0.929619\n",
              "1              Decision Tree  0.929326\n",
              "2          Gradient Boosting  0.895601\n",
              "7  Support Vector Classifier  0.870088\n",
              "8        AdaBoost Classifier  0.868328\n",
              "3        Logistic Regression  0.745161"
            ],
            "text/html": [
              "\n",
              "  <div id=\"df-f579ed8d-5aae-4c21-ac70-46117e61ac0d\" class=\"colab-df-container\">\n",
              "    <div>\n",
              "<style scoped>\n",
              "    .dataframe tbody tr th:only-of-type {\n",
              "        vertical-align: middle;\n",
              "    }\n",
              "\n",
              "    .dataframe tbody tr th {\n",
              "        vertical-align: top;\n",
              "    }\n",
              "\n",
              "    .dataframe thead th {\n",
              "        text-align: right;\n",
              "    }\n",
              "</style>\n",
              "<table border=\"1\" class=\"dataframe\">\n",
              "  <thead>\n",
              "    <tr style=\"text-align: right;\">\n",
              "      <th></th>\n",
              "      <th>Model Name</th>\n",
              "      <th>Accuracy</th>\n",
              "    </tr>\n",
              "  </thead>\n",
              "  <tbody>\n",
              "    <tr>\n",
              "      <th>0</th>\n",
              "      <td>Random Forest</td>\n",
              "      <td>0.953372</td>\n",
              "    </tr>\n",
              "    <tr>\n",
              "      <th>4</th>\n",
              "      <td>K-Neighbors Classifier</td>\n",
              "      <td>0.940176</td>\n",
              "    </tr>\n",
              "    <tr>\n",
              "      <th>5</th>\n",
              "      <td>XGBClassifier</td>\n",
              "      <td>0.935191</td>\n",
              "    </tr>\n",
              "    <tr>\n",
              "      <th>6</th>\n",
              "      <td>CatBoosting Classifier</td>\n",
              "      <td>0.929619</td>\n",
              "    </tr>\n",
              "    <tr>\n",
              "      <th>1</th>\n",
              "      <td>Decision Tree</td>\n",
              "      <td>0.929326</td>\n",
              "    </tr>\n",
              "    <tr>\n",
              "      <th>2</th>\n",
              "      <td>Gradient Boosting</td>\n",
              "      <td>0.895601</td>\n",
              "    </tr>\n",
              "    <tr>\n",
              "      <th>7</th>\n",
              "      <td>Support Vector Classifier</td>\n",
              "      <td>0.870088</td>\n",
              "    </tr>\n",
              "    <tr>\n",
              "      <th>8</th>\n",
              "      <td>AdaBoost Classifier</td>\n",
              "      <td>0.868328</td>\n",
              "    </tr>\n",
              "    <tr>\n",
              "      <th>3</th>\n",
              "      <td>Logistic Regression</td>\n",
              "      <td>0.745161</td>\n",
              "    </tr>\n",
              "  </tbody>\n",
              "</table>\n",
              "</div>\n",
              "    <div class=\"colab-df-buttons\">\n",
              "\n",
              "  <div class=\"colab-df-container\">\n",
              "    <button class=\"colab-df-convert\" onclick=\"convertToInteractive('df-f579ed8d-5aae-4c21-ac70-46117e61ac0d')\"\n",
              "            title=\"Convert this dataframe to an interactive table.\"\n",
              "            style=\"display:none;\">\n",
              "\n",
              "  <svg xmlns=\"http://www.w3.org/2000/svg\" height=\"24px\" viewBox=\"0 -960 960 960\">\n",
              "    <path d=\"M120-120v-720h720v720H120Zm60-500h600v-160H180v160Zm220 220h160v-160H400v160Zm0 220h160v-160H400v160ZM180-400h160v-160H180v160Zm440 0h160v-160H620v160ZM180-180h160v-160H180v160Zm440 0h160v-160H620v160Z\"/>\n",
              "  </svg>\n",
              "    </button>\n",
              "\n",
              "  <style>\n",
              "    .colab-df-container {\n",
              "      display:flex;\n",
              "      gap: 12px;\n",
              "    }\n",
              "\n",
              "    .colab-df-convert {\n",
              "      background-color: #E8F0FE;\n",
              "      border: none;\n",
              "      border-radius: 50%;\n",
              "      cursor: pointer;\n",
              "      display: none;\n",
              "      fill: #1967D2;\n",
              "      height: 32px;\n",
              "      padding: 0 0 0 0;\n",
              "      width: 32px;\n",
              "    }\n",
              "\n",
              "    .colab-df-convert:hover {\n",
              "      background-color: #E2EBFA;\n",
              "      box-shadow: 0px 1px 2px rgba(60, 64, 67, 0.3), 0px 1px 3px 1px rgba(60, 64, 67, 0.15);\n",
              "      fill: #174EA6;\n",
              "    }\n",
              "\n",
              "    .colab-df-buttons div {\n",
              "      margin-bottom: 4px;\n",
              "    }\n",
              "\n",
              "    [theme=dark] .colab-df-convert {\n",
              "      background-color: #3B4455;\n",
              "      fill: #D2E3FC;\n",
              "    }\n",
              "\n",
              "    [theme=dark] .colab-df-convert:hover {\n",
              "      background-color: #434B5C;\n",
              "      box-shadow: 0px 1px 3px 1px rgba(0, 0, 0, 0.15);\n",
              "      filter: drop-shadow(0px 1px 2px rgba(0, 0, 0, 0.3));\n",
              "      fill: #FFFFFF;\n",
              "    }\n",
              "  </style>\n",
              "\n",
              "    <script>\n",
              "      const buttonEl =\n",
              "        document.querySelector('#df-f579ed8d-5aae-4c21-ac70-46117e61ac0d button.colab-df-convert');\n",
              "      buttonEl.style.display =\n",
              "        google.colab.kernel.accessAllowed ? 'block' : 'none';\n",
              "\n",
              "      async function convertToInteractive(key) {\n",
              "        const element = document.querySelector('#df-f579ed8d-5aae-4c21-ac70-46117e61ac0d');\n",
              "        const dataTable =\n",
              "          await google.colab.kernel.invokeFunction('convertToInteractive',\n",
              "                                                    [key], {});\n",
              "        if (!dataTable) return;\n",
              "\n",
              "        const docLinkHtml = 'Like what you see? Visit the ' +\n",
              "          '<a target=\"_blank\" href=https://colab.research.google.com/notebooks/data_table.ipynb>data table notebook</a>'\n",
              "          + ' to learn more about interactive tables.';\n",
              "        element.innerHTML = '';\n",
              "        dataTable['output_type'] = 'display_data';\n",
              "        await google.colab.output.renderOutput(dataTable, element);\n",
              "        const docLink = document.createElement('div');\n",
              "        docLink.innerHTML = docLinkHtml;\n",
              "        element.appendChild(docLink);\n",
              "      }\n",
              "    </script>\n",
              "  </div>\n",
              "\n",
              "\n",
              "<div id=\"df-352d346f-52a1-484e-8ec8-e88950ce16f2\">\n",
              "  <button class=\"colab-df-quickchart\" onclick=\"quickchart('df-352d346f-52a1-484e-8ec8-e88950ce16f2')\"\n",
              "            title=\"Suggest charts\"\n",
              "            style=\"display:none;\">\n",
              "\n",
              "<svg xmlns=\"http://www.w3.org/2000/svg\" height=\"24px\"viewBox=\"0 0 24 24\"\n",
              "     width=\"24px\">\n",
              "    <g>\n",
              "        <path d=\"M19 3H5c-1.1 0-2 .9-2 2v14c0 1.1.9 2 2 2h14c1.1 0 2-.9 2-2V5c0-1.1-.9-2-2-2zM9 17H7v-7h2v7zm4 0h-2V7h2v10zm4 0h-2v-4h2v4z\"/>\n",
              "    </g>\n",
              "</svg>\n",
              "  </button>\n",
              "\n",
              "<style>\n",
              "  .colab-df-quickchart {\n",
              "      --bg-color: #E8F0FE;\n",
              "      --fill-color: #1967D2;\n",
              "      --hover-bg-color: #E2EBFA;\n",
              "      --hover-fill-color: #174EA6;\n",
              "      --disabled-fill-color: #AAA;\n",
              "      --disabled-bg-color: #DDD;\n",
              "  }\n",
              "\n",
              "  [theme=dark] .colab-df-quickchart {\n",
              "      --bg-color: #3B4455;\n",
              "      --fill-color: #D2E3FC;\n",
              "      --hover-bg-color: #434B5C;\n",
              "      --hover-fill-color: #FFFFFF;\n",
              "      --disabled-bg-color: #3B4455;\n",
              "      --disabled-fill-color: #666;\n",
              "  }\n",
              "\n",
              "  .colab-df-quickchart {\n",
              "    background-color: var(--bg-color);\n",
              "    border: none;\n",
              "    border-radius: 50%;\n",
              "    cursor: pointer;\n",
              "    display: none;\n",
              "    fill: var(--fill-color);\n",
              "    height: 32px;\n",
              "    padding: 0;\n",
              "    width: 32px;\n",
              "  }\n",
              "\n",
              "  .colab-df-quickchart:hover {\n",
              "    background-color: var(--hover-bg-color);\n",
              "    box-shadow: 0 1px 2px rgba(60, 64, 67, 0.3), 0 1px 3px 1px rgba(60, 64, 67, 0.15);\n",
              "    fill: var(--button-hover-fill-color);\n",
              "  }\n",
              "\n",
              "  .colab-df-quickchart-complete:disabled,\n",
              "  .colab-df-quickchart-complete:disabled:hover {\n",
              "    background-color: var(--disabled-bg-color);\n",
              "    fill: var(--disabled-fill-color);\n",
              "    box-shadow: none;\n",
              "  }\n",
              "\n",
              "  .colab-df-spinner {\n",
              "    border: 2px solid var(--fill-color);\n",
              "    border-color: transparent;\n",
              "    border-bottom-color: var(--fill-color);\n",
              "    animation:\n",
              "      spin 1s steps(1) infinite;\n",
              "  }\n",
              "\n",
              "  @keyframes spin {\n",
              "    0% {\n",
              "      border-color: transparent;\n",
              "      border-bottom-color: var(--fill-color);\n",
              "      border-left-color: var(--fill-color);\n",
              "    }\n",
              "    20% {\n",
              "      border-color: transparent;\n",
              "      border-left-color: var(--fill-color);\n",
              "      border-top-color: var(--fill-color);\n",
              "    }\n",
              "    30% {\n",
              "      border-color: transparent;\n",
              "      border-left-color: var(--fill-color);\n",
              "      border-top-color: var(--fill-color);\n",
              "      border-right-color: var(--fill-color);\n",
              "    }\n",
              "    40% {\n",
              "      border-color: transparent;\n",
              "      border-right-color: var(--fill-color);\n",
              "      border-top-color: var(--fill-color);\n",
              "    }\n",
              "    60% {\n",
              "      border-color: transparent;\n",
              "      border-right-color: var(--fill-color);\n",
              "    }\n",
              "    80% {\n",
              "      border-color: transparent;\n",
              "      border-right-color: var(--fill-color);\n",
              "      border-bottom-color: var(--fill-color);\n",
              "    }\n",
              "    90% {\n",
              "      border-color: transparent;\n",
              "      border-bottom-color: var(--fill-color);\n",
              "    }\n",
              "  }\n",
              "</style>\n",
              "\n",
              "  <script>\n",
              "    async function quickchart(key) {\n",
              "      const quickchartButtonEl =\n",
              "        document.querySelector('#' + key + ' button');\n",
              "      quickchartButtonEl.disabled = true;  // To prevent multiple clicks.\n",
              "      quickchartButtonEl.classList.add('colab-df-spinner');\n",
              "      try {\n",
              "        const charts = await google.colab.kernel.invokeFunction(\n",
              "            'suggestCharts', [key], {});\n",
              "      } catch (error) {\n",
              "        console.error('Error during call to suggestCharts:', error);\n",
              "      }\n",
              "      quickchartButtonEl.classList.remove('colab-df-spinner');\n",
              "      quickchartButtonEl.classList.add('colab-df-quickchart-complete');\n",
              "    }\n",
              "    (() => {\n",
              "      let quickchartButtonEl =\n",
              "        document.querySelector('#df-352d346f-52a1-484e-8ec8-e88950ce16f2 button');\n",
              "      quickchartButtonEl.style.display =\n",
              "        google.colab.kernel.accessAllowed ? 'block' : 'none';\n",
              "    })();\n",
              "  </script>\n",
              "</div>\n",
              "\n",
              "  <div id=\"id_5140149e-0c20-49be-88e0-d3b1761c2e87\">\n",
              "    <style>\n",
              "      .colab-df-generate {\n",
              "        background-color: #E8F0FE;\n",
              "        border: none;\n",
              "        border-radius: 50%;\n",
              "        cursor: pointer;\n",
              "        display: none;\n",
              "        fill: #1967D2;\n",
              "        height: 32px;\n",
              "        padding: 0 0 0 0;\n",
              "        width: 32px;\n",
              "      }\n",
              "\n",
              "      .colab-df-generate:hover {\n",
              "        background-color: #E2EBFA;\n",
              "        box-shadow: 0px 1px 2px rgba(60, 64, 67, 0.3), 0px 1px 3px 1px rgba(60, 64, 67, 0.15);\n",
              "        fill: #174EA6;\n",
              "      }\n",
              "\n",
              "      [theme=dark] .colab-df-generate {\n",
              "        background-color: #3B4455;\n",
              "        fill: #D2E3FC;\n",
              "      }\n",
              "\n",
              "      [theme=dark] .colab-df-generate:hover {\n",
              "        background-color: #434B5C;\n",
              "        box-shadow: 0px 1px 3px 1px rgba(0, 0, 0, 0.15);\n",
              "        filter: drop-shadow(0px 1px 2px rgba(0, 0, 0, 0.3));\n",
              "        fill: #FFFFFF;\n",
              "      }\n",
              "    </style>\n",
              "    <button class=\"colab-df-generate\" onclick=\"generateWithVariable('report')\"\n",
              "            title=\"Generate code using this dataframe.\"\n",
              "            style=\"display:none;\">\n",
              "\n",
              "  <svg xmlns=\"http://www.w3.org/2000/svg\" height=\"24px\"viewBox=\"0 0 24 24\"\n",
              "       width=\"24px\">\n",
              "    <path d=\"M7,19H8.4L18.45,9,17,7.55,7,17.6ZM5,21V16.75L18.45,3.32a2,2,0,0,1,2.83,0l1.4,1.43a1.91,1.91,0,0,1,.58,1.4,1.91,1.91,0,0,1-.58,1.4L9.25,21ZM18.45,9,17,7.55Zm-12,3A5.31,5.31,0,0,0,4.9,8.1,5.31,5.31,0,0,0,1,6.5,5.31,5.31,0,0,0,4.9,4.9,5.31,5.31,0,0,0,6.5,1,5.31,5.31,0,0,0,8.1,4.9,5.31,5.31,0,0,0,12,6.5,5.46,5.46,0,0,0,6.5,12Z\"/>\n",
              "  </svg>\n",
              "    </button>\n",
              "    <script>\n",
              "      (() => {\n",
              "      const buttonEl =\n",
              "        document.querySelector('#id_5140149e-0c20-49be-88e0-d3b1761c2e87 button.colab-df-generate');\n",
              "      buttonEl.style.display =\n",
              "        google.colab.kernel.accessAllowed ? 'block' : 'none';\n",
              "\n",
              "      buttonEl.onclick = () => {\n",
              "        google.colab.notebook.generateWithVariable('report');\n",
              "      }\n",
              "      })();\n",
              "    </script>\n",
              "  </div>\n",
              "\n",
              "    </div>\n",
              "  </div>\n"
            ],
            "application/vnd.google.colaboratory.intrinsic+json": {
              "type": "dataframe",
              "variable_name": "report",
              "summary": "{\n  \"name\": \"report\",\n  \"rows\": 9,\n  \"fields\": [\n    {\n      \"column\": \"Model Name\",\n      \"properties\": {\n        \"dtype\": \"string\",\n        \"num_unique_values\": 9,\n        \"samples\": [\n          \"AdaBoost Classifier\",\n          \"K-Neighbors Classifier\",\n          \"Gradient Boosting\"\n        ],\n        \"semantic_type\": \"\",\n        \"description\": \"\"\n      }\n    },\n    {\n      \"column\": \"Accuracy\",\n      \"properties\": {\n        \"dtype\": \"number\",\n        \"std\": 0.06442877836160409,\n        \"min\": 0.7451612903225806,\n        \"max\": 0.9533724340175953,\n        \"num_unique_values\": 9,\n        \"samples\": [\n          0.8683284457478005,\n          0.9401759530791789,\n          0.8956011730205279\n        ],\n        \"semantic_type\": \"\",\n        \"description\": \"\"\n      }\n    }\n  ]\n}"
            }
          },
          "metadata": {},
          "execution_count": 45
        }
      ]
    },
    {
      "cell_type": "markdown",
      "source": [
        "From the performance report, it is evident **that Random Forest** and **K-Neighbors Classifier** have achieved the highest accuracy metrics among all the models. These two models demonstrate strong predictive capabilities, making them ideal candidates for further refinement.\n",
        "\n",
        "To enhance their performance, we can proceed with *hyperparameter tuning* for both the Random Forest and K-Neighbors Classifier models."
      ],
      "metadata": {
        "id": "ncBZ1wV0OWuP"
      },
      "id": "ncBZ1wV0OWuP"
    },
    {
      "cell_type": "markdown",
      "source": [
        "## Hyperparameter Tuning"
      ],
      "metadata": {
        "id": "_z_rwrFlPcRl"
      },
      "id": "_z_rwrFlPcRl"
    },
    {
      "cell_type": "code",
      "source": [
        "# Define parameter grids for Random Forest and K-Neighbors Classifier\n",
        "rf_params = {\n",
        "    \"max_depth\": [10, 12, None, 15, 20],\n",
        "    \"max_features\": ['sqrt', 'log2', None],\n",
        "    \"n_estimators\": [10, 50, 100, 200]\n",
        "}\n",
        "\n",
        "knn_params = {\n",
        "    \"algorithm\": ['auto', 'ball_tree', 'kd_tree', 'brute'],\n",
        "    \"weights\": ['uniform', 'distance'],\n",
        "    \"n_neighbors\": [3, 4, 5, 7, 9],\n",
        "}"
      ],
      "metadata": {
        "id": "x8Qc39qhPjcr"
      },
      "id": "x8Qc39qhPjcr",
      "execution_count": 46,
      "outputs": []
    },
    {
      "cell_type": "markdown",
      "source": [
        "### Randomized Search Cross-Validation for Hyperparameter Tuning\n",
        "\n",
        "In this section, we will perform hyperparameter tuning using `RandomizedSearchCV` on multiple models. We will iterate over a list of models with their corresponding parameter distributions, tune the models, and retrieve the best hyperparameters.\n",
        "\n",
        "#### Key Steps:\n",
        "1. **RandomizedSearchCV**: Randomized search over a parameter grid with cross-validation.\n",
        "2. **Model Training**: For each model, the search runs 100 iterations with 3-fold cross-validation.\n",
        "3. **Output**: Display the best parameters for each model after tuning.\n",
        "\n",
        "#### Input Variables:\n",
        "* `randomcv_models`: List of tuples where each tuple contains a model name, the model object, and the parameter grid.\n",
        "* `X_res, Y_res`: The training data (features and target) after any preprocessing (e.g., resampling if applied).\n"
      ],
      "metadata": {
        "id": "hdQw2F7oQPMj"
      },
      "id": "hdQw2F7oQPMj"
    },
    {
      "cell_type": "markdown",
      "source": [
        "#### Code Implementation:"
      ],
      "metadata": {
        "id": "A_ahazyrQWKI"
      },
      "id": "A_ahazyrQWKI"
    },
    {
      "cell_type": "code",
      "source": [
        "# Models list for Hyperparameter tuning\n",
        "randomcv_models = [\n",
        "    ('Random Forest', RandomForestClassifier(), rf_params),\n",
        "    ('K-Neighbors Classifier', KNeighborsClassifier(), knn_params)\n",
        "]"
      ],
      "metadata": {
        "id": "XuSzKaTgWROJ"
      },
      "id": "XuSzKaTgWROJ",
      "execution_count": 47,
      "outputs": []
    },
    {
      "cell_type": "code",
      "source": [
        "from sklearn.model_selection import RandomizedSearchCV\n",
        "\n",
        "# Dictionary to store the best hyperparameters for each model\n",
        "best_model_params = {}\n",
        "\n",
        "# Iterating over models and their respective parameter distributions\n",
        "for model_name, model, param_grid in randomcv_models:\n",
        "    try:\n",
        "        # Defining the RandomizedSearchCV object\n",
        "        random_search = RandomizedSearchCV(\n",
        "            estimator=model,\n",
        "            param_distributions=param_grid,\n",
        "            n_iter=100,  # Number of parameter settings sampled\n",
        "            cv=3,        # 3-fold cross-validation\n",
        "            verbose=2,    # Verbose output to monitor progress\n",
        "            n_jobs=-1     # Use all available processors\n",
        "        )\n",
        "\n",
        "        # Fitting the RandomizedSearchCV on the training data\n",
        "        random_search.fit(X_res, Y_res)\n",
        "\n",
        "        # Storing the best hyperparameters\n",
        "        best_model_params[model_name] = random_search.best_params_\n",
        "\n",
        "    except Exception as e:\n",
        "        print(f\"Error tuning {model_name}: {e}\")\n",
        "\n",
        "# Displaying the best hyperparameters for each model\n",
        "for model_name, params in best_model_params.items():\n",
        "    print(f\"---------------- Best Params for {model_name} -------------------\")\n",
        "    print(params)\n"
      ],
      "metadata": {
        "colab": {
          "base_uri": "https://localhost:8080/"
        },
        "id": "NPKdq9ocXww4",
        "outputId": "1549f26a-d980-42cb-e9aa-50e1f4026575"
      },
      "id": "NPKdq9ocXww4",
      "execution_count": 60,
      "outputs": [
        {
          "output_type": "stream",
          "name": "stdout",
          "text": [
            "Fitting 3 folds for each of 60 candidates, totalling 180 fits\n"
          ]
        },
        {
          "output_type": "stream",
          "name": "stderr",
          "text": [
            "/usr/local/lib/python3.10/dist-packages/sklearn/model_selection/_search.py:320: UserWarning: The total space of parameters 60 is smaller than n_iter=100. Running 60 iterations. For exhaustive searches, use GridSearchCV.\n",
            "  warnings.warn(\n",
            "/usr/local/lib/python3.10/dist-packages/sklearn/model_selection/_search.py:320: UserWarning: The total space of parameters 40 is smaller than n_iter=100. Running 40 iterations. For exhaustive searches, use GridSearchCV.\n",
            "  warnings.warn(\n"
          ]
        },
        {
          "output_type": "stream",
          "name": "stdout",
          "text": [
            "Fitting 3 folds for each of 40 candidates, totalling 120 fits\n",
            "---------------- Best Params for Random Forest -------------------\n",
            "{'n_estimators': 100, 'max_features': 'sqrt', 'max_depth': None}\n",
            "---------------- Best Params for K-Neighbors Classifier -------------------\n",
            "{'weights': 'distance', 'n_neighbors': 4, 'algorithm': 'auto'}\n"
          ]
        }
      ]
    },
    {
      "cell_type": "code",
      "source": [
        "best_model_params"
      ],
      "metadata": {
        "colab": {
          "base_uri": "https://localhost:8080/"
        },
        "id": "tCWY0J-ZZQlh",
        "outputId": "c070a6f0-fb13-47b3-f8aa-9706c2fa3291"
      },
      "id": "tCWY0J-ZZQlh",
      "execution_count": 61,
      "outputs": [
        {
          "output_type": "execute_result",
          "data": {
            "text/plain": [
              "{'Random Forest': {'n_estimators': 100,\n",
              "  'max_features': 'sqrt',\n",
              "  'max_depth': None},\n",
              " 'K-Neighbors Classifier': {'weights': 'distance',\n",
              "  'n_neighbors': 4,\n",
              "  'algorithm': 'auto'}}"
            ]
          },
          "metadata": {},
          "execution_count": 61
        }
      ]
    },
    {
      "cell_type": "markdown",
      "source": [
        "### Evaluating Tuned Models using ROC-AUC\n",
        "\n",
        "Once we have the best parameters for each model from `RandomizedSearchCV`, we can train the final models and evaluate their performance using the ROC-AUC score and ROC curves.\n",
        "\n",
        "#### Key Steps:\n",
        "1. **Best Models Setup**: Instantiate the models using the best hyperparameters found.\n",
        "2. **Model Evaluation**: We will use ROC-AUC as the primary evaluation metric.\n",
        "3. **Visualize ROC Curves**: ROC curves help us understand the trade-off between the true positive rate (TPR) and false positive rate (FPR).\n",
        "\n",
        "#### Input Variables:\n",
        "- `model_param`: A dictionary containing the best parameters for each model.\n",
        "- `X_res, Y_res`: The training data (features and target).\n",
        "- `train_and_evaluate_models`: A custom function that trains and evaluates models.\n"
      ],
      "metadata": {
        "id": "AbgwhHGiRLUU"
      },
      "id": "AbgwhHGiRLUU"
    },
    {
      "cell_type": "code",
      "source": [
        "from sklearn.metrics import roc_auc_score,roc_curve\n",
        "best_models = {\n",
        "    \"Random Forest Classifier\": RandomForestClassifier(**model_param['Random Forest']),\n",
        "    \"KNeighborsClassifier\": KNeighborsClassifier(**model_param['K-Neighbors Classifier']),\n",
        "}\n",
        "tuned_report =train_and_evaluate_models(X=X_res, Y=Y_res, models=best_models)"
      ],
      "metadata": {
        "colab": {
          "base_uri": "https://localhost:8080/"
        },
        "id": "NmVWCuH9dcCx",
        "outputId": "1c5d039f-e481-414b-a081-289d46dc165d"
      },
      "id": "NmVWCuH9dcCx",
      "execution_count": 69,
      "outputs": [
        {
          "output_type": "stream",
          "name": "stdout",
          "text": [
            "Training Random Forest Classifier...\n",
            "Model performance for Random Forest Classifier on Training set:\n",
            "- Accuracy: 1.0000\n",
            "- F1 Score: 1.0000\n",
            "- Precision: 1.0000\n",
            "- Recall: 1.0000\n",
            "Model performance for Random Forest Classifier on Test set:\n",
            "- Accuracy: 0.9531\n",
            "- F1 Score: 0.9531\n",
            "- Precision: 0.9531\n",
            "- Recall: 0.9531\n",
            "===================================\n",
            "Training KNeighborsClassifier...\n",
            "Model performance for KNeighborsClassifier on Training set:\n",
            "- Accuracy: 1.0000\n",
            "- F1 Score: 1.0000\n",
            "- Precision: 1.0000\n",
            "- Recall: 1.0000\n",
            "Model performance for KNeighborsClassifier on Test set:\n",
            "- Accuracy: 0.9733\n",
            "- F1 Score: 0.9733\n",
            "- Precision: 0.9735\n",
            "- Recall: 0.9733\n",
            "===================================\n"
          ]
        }
      ]
    },
    {
      "cell_type": "markdown",
      "source": [
        "### Training and Evaluating K-Neighbors Classifier\n",
        "\n",
        "In this section, we will train a `KNeighborsClassifier` using the best parameters found from `RandomizedSearchCV`. We'll evaluate its performance on the test set using accuracy score and a classification report.\n",
        "\n",
        "#### Key Steps:\n",
        "1. **Initialize Model**: Instantiate the `KNeighborsClassifier` with the best hyperparameters.\n",
        "2. **Train the Model**: Fit the model on the training data.\n",
        "3. **Model Evaluation**: Predict on the test set and evaluate the model using accuracy and a detailed classification report.\n",
        "\n",
        "#### Input Variables:\n",
        "- `model_param`: Contains the best hyperparameters for `K-Neighbors Classifier`.\n",
        "- `X_train, Y_train`: Training data (features and target).\n",
        "- `X_test, Y_test`: Test data (features and target).\n"
      ],
      "metadata": {
        "id": "9-L6JVagSqxQ"
      },
      "id": "9-L6JVagSqxQ"
    },
    {
      "cell_type": "code",
      "source": [
        "best_model = KNeighborsClassifier(**best_model_params['K-Neighbors Classifier'])\n",
        "best_model = best_model.fit(X_train,Y_train)\n",
        "Y_pred = best_model.predict(X_test)\n",
        "score = accuracy_score(Y_test,Y_pred)\n",
        "class_report = classification_report(Y_test,Y_pred)\n",
        "\n",
        "print(\"FINAL MODEL 'K-Neighbors Classifier'\")\n",
        "print (\"Accuracy Score value: {:.4f}\".format(score))\n",
        "print (class_report)"
      ],
      "metadata": {
        "colab": {
          "base_uri": "https://localhost:8080/"
        },
        "id": "z_uKtvaMeiaw",
        "outputId": "30fadecd-03c7-4819-ad30-1a8cc5f78935"
      },
      "id": "z_uKtvaMeiaw",
      "execution_count": 73,
      "outputs": [
        {
          "output_type": "stream",
          "name": "stdout",
          "text": [
            "FINAL MODEL 'K-Neighbors Classifier'\n",
            "Accuracy Score value: 0.9733\n",
            "              precision    recall  f1-score   support\n",
            "\n",
            "           0       0.98      0.96      0.97      1561\n",
            "           1       0.97      0.99      0.98      1849\n",
            "\n",
            "    accuracy                           0.97      3410\n",
            "   macro avg       0.97      0.97      0.97      3410\n",
            "weighted avg       0.97      0.97      0.97      3410\n",
            "\n"
          ]
        }
      ]
    },
    {
      "cell_type": "markdown",
      "source": [
        "### Confusion Matrix Visualization\n",
        "\n",
        "In this section, we will visualize the confusion matrix of a trained classification model. The confusion matrix provides insight into the performance of the model by displaying the counts of true positives, false positives, true negatives, and false negatives. This visualization will help us understand how well the model is performing on the test set.\n",
        "\n",
        "#### Key Steps:\n",
        "1. **Generate Predictions**: Use the trained model to predict the labels of the test dataset.\n",
        "2. **Create Confusion Matrix**: Calculate the confusion matrix based on the true and predicted labels.\n",
        "3. **Normalize and Annotate**: Normalize the confusion matrix for better interpretability and annotate it with raw counts and percentages.\n",
        "4. **Plot the Confusion Matrix**: Use Matplotlib to visualize the confusion matrix with labels for each cell, indicating both the count and the percentage of predictions.\n",
        "\n",
        "#### Input Variables:\n",
        "* `model`: The trained classifier model (e.g., `KNeighborsClassifier`).\n",
        "* `X_test`: Test features (input data for prediction).\n",
        "* `Y_test`: True test labels (actual labels for comparison).\n",
        "* `figsize`: Optional; size of the output plot (default is (10, 10)).\n",
        "* `text_size`: Optional; size of the text annotations on the plot (default is 15)."
      ],
      "metadata": {
        "id": "w-PbRrhJyRwv"
      },
      "id": "w-PbRrhJyRwv"
    },
    {
      "cell_type": "code",
      "source": [
        "import matplotlib.pyplot as plt\n",
        "from sklearn.metrics import ConfusionMatrixDisplay, confusion_matrix\n",
        "import numpy as np\n",
        "import itertools\n",
        "\n",
        "def plot_confusion_matrix_with_labels(model, X_test, Y_test, figsize=(10, 10), text_size=15):\n",
        "    \"\"\"\n",
        "    Plots a confusion matrix with additional labels (TP, FP, TN, FN).\n",
        "\n",
        "    Args:\n",
        "        model: The trained classifier model.\n",
        "        X_test: Test features.\n",
        "        Y_test: True test labels.\n",
        "        figsize: Size of the output plot.\n",
        "        text_size: Size of the text on the plot.\n",
        "    \"\"\"\n",
        "    # Generate confusion matrix\n",
        "    Y_pred = model.predict(X_test)\n",
        "    cm = confusion_matrix(Y_test, Y_pred)\n",
        "\n",
        "    # Plot the confusion matrix without the default values\n",
        "    fig, ax = plt.subplots(figsize=figsize)\n",
        "    disp = ConfusionMatrixDisplay(confusion_matrix=cm)\n",
        "    disp.plot(ax=ax, cmap=plt.cm.Blues, colorbar=False)\n",
        "\n",
        "    # Remove the text from the original ConfusionMatrixDisplay to avoid overlaps\n",
        "    for artist in disp.ax_.texts:\n",
        "        artist.set_visible(False)\n",
        "\n",
        "    # Normalize the confusion matrix\n",
        "    cm_norm = cm.astype(\"float\") / cm.sum(axis=1)[:, np.newaxis]\n",
        "\n",
        "    # Set the threshold for different colors\n",
        "    threshold = (cm.max() + cm.min()) / 2.0\n",
        "\n",
        "    # Add custom text for each cell (raw count and percentage)\n",
        "    for i, j in itertools.product(range(cm.shape[0]), range(cm.shape[1])):\n",
        "        plt.text(j, i, f\"{cm[i, j]}\\n({cm_norm[i, j] * 100:.1f}%)\",\n",
        "                 horizontalalignment=\"center\",\n",
        "                 color=\"white\" if cm[i, j] > threshold else \"black\",\n",
        "                 fontsize=text_size)\n",
        "\n",
        "    # Additional plot customization (labels and titles)\n",
        "    ax.set_title(\"Confusion Matrix with Labels\", fontsize=text_size+5)\n",
        "    ax.set_xlabel('Predicted Label', fontsize=text_size)\n",
        "    ax.set_ylabel('True Label', fontsize=text_size)\n",
        "\n",
        "    plt.show()\n"
      ],
      "metadata": {
        "id": "CxL-wFs8O1n1"
      },
      "id": "CxL-wFs8O1n1",
      "execution_count": 58,
      "outputs": []
    },
    {
      "cell_type": "markdown",
      "source": [
        "### K-Neighbors Classifier Training and Confusion Matrix Visualization\n",
        "\n",
        "In this section, we will train a `KNeighborsClassifier` using the best parameters obtained from hyperparameter tuning (e.g., `RandomizedSearchCV`). After training the model, we will visualize the confusion matrix to assess its performance on the test dataset.\n",
        "\n",
        "#### Key Steps:\n",
        "1. **Initialize Model**: Create an instance of `KNeighborsClassifier` with the best hyperparameters.\n",
        "2. **Train the Model**: Fit the model on the training data.\n",
        "3. **Visualize Confusion Matrix**: Use the `plot_confusion_matrix_with_labels` function to visualize the confusion matrix of the model's predictions on the test set.\n",
        "\n",
        "#### Input Variables:\n",
        "* `best_model_params`: A dictionary containing the best hyperparameters for the `K-Neighbors Classifier`.\n",
        "* `X_train, Y_train`: Training data (features and target).\n",
        "* `X_test, Y_test`: Test data (features and target).\n"
      ],
      "metadata": {
        "id": "WW6MyQWjyoY6"
      },
      "id": "WW6MyQWjyoY6"
    },
    {
      "cell_type": "code",
      "source": [
        "# Initialize and train the K-Neighbors Classifier with the best parameters\n",
        "best_model = KNeighborsClassifier(**best_model_params['K-Neighbors Classifier'])\n",
        "best_model.fit(X_train, Y_train)\n",
        "\n",
        "# Visualize the confusion matrix for the trained model on the test set\n",
        "plot_confusion_matrix_with_labels(best_model, X_test, Y_test)"
      ],
      "metadata": {
        "colab": {
          "base_uri": "https://localhost:8080/",
          "height": 673
        },
        "id": "oiA4YfT2e_Hx",
        "outputId": "8b3d5970-ea56-4e5d-98e9-fb81e8125748"
      },
      "id": "oiA4YfT2e_Hx",
      "execution_count": 72,
      "outputs": [
        {
          "output_type": "display_data",
          "data": {
            "text/plain": [
              "<Figure size 1000x1000 with 1 Axes>"
            ],
            "image/png": "[encoded data removed]"
          },
          "metadata": {}
        }
      ]
    }
  ],
  "metadata": {
    "kernelspec": {
      "display_name": "Python (ml_env)",
      "language": "python",
      "name": "ml_env"
    },
    "language_info": {
      "codemirror_mode": {
        "name": "ipython",
        "version": 3
      },
      "file_extension": ".py",
      "mimetype": "text/x-python",
      "name": "python",
      "nbconvert_exporter": "python",
      "pygments_lexer": "ipython3",
      "version": "3.11.5"
    },
    "colab": {
      "provenance": []
    }
  },
  "nbformat": 4,
  "nbformat_minor": 5
}